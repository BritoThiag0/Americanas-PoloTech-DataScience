{
  "cells": [
    {
      "attachments": {},
      "cell_type": "markdown",
      "metadata": {},
      "source": [
        "# Numpy"
      ]
    },
    {
      "cell_type": "markdown",
      "metadata": {
        "colab_type": "text",
        "id": "view-in-github"
      },
      "source": [
        "<a href=\"https://colab.research.google.com/github/robertosgpontes/tec_prog_1/blob/main/Numpy.ipynb\" target=\"_parent\"><img src=\"https://colab.research.google.com/assets/colab-badge.svg\" alt=\"Open In Colab\"/></a>"
      ]
    },
    {
      "cell_type": "markdown",
      "metadata": {
        "id": "ck4mz0HzAleV"
      },
      "source": [
        "<img src=\"https://upload.wikimedia.org/wikipedia/commons/thumb/3/31/NumPy_logo_2020.svg/2560px-NumPy_logo_2020.svg.png\" alt=\"Alternative text\" />"
      ]
    },
    {
      "cell_type": "markdown",
      "metadata": {
        "id": "eGVnLJMDAleX"
      },
      "source": [
        "A biblioteca **NumPy** _(Numerical Python)_ proporciona uma forma eficiente de armazenagem e processamento de conjuntos de dados, e é utilizada como base para a construção da biblioteca Pandas, que estudaremos a seguir.\n",
        "\n",
        "O diferencial do Numpy é sua velocidade e eficiência, o que faz com que ela seja amplamente utilizada para computação científica e análise de dados. \n",
        "\n",
        "A velocidade e eficiência é possível graças à estrutura chamada **numpy array**, que é um forma eficiente de guardar e manipular matrizes, que serve como base para as tabelas que iremos utilizar."
      ]
    },
    {
      "cell_type": "markdown",
      "metadata": {
        "id": "RvWTYJ8QAlea"
      },
      "source": [
        "[Guia rápido de uso da biblioteca](https://numpy.org/devdocs/user/quickstart.html)\n",
        "\n",
        "[Guia para iniciantes](https://numpy.org/devdocs/user/absolute_beginners.html)"
      ]
    },
    {
      "cell_type": "markdown",
      "metadata": {
        "id": "wVMzQ3HKAled"
      },
      "source": [
        "___"
      ]
    },
    {
      "cell_type": "markdown",
      "metadata": {
        "id": "Wgn4cJ7IAlee"
      },
      "source": [
        "Qual a diferença entre um numpy array e uma lista?"
      ]
    },
    {
      "cell_type": "markdown",
      "metadata": {
        "id": "ksLymSzkAleg"
      },
      "source": [
        "**numpy array:** armazena somente um tipo de dado (homogêneo), ocupando menos memória. É pensado para maior eficiência de cálculo.\n",
        "\n",
        "**lista:** permite armazenar dados de vários tipos."
      ]
    },
    {
      "cell_type": "code",
      "execution_count": 2,
      "metadata": {
        "colab": {
          "base_uri": "https://localhost:8080/"
        },
        "id": "jMaym1x2Alei",
        "outputId": "56bbd8b4-ef77-4f14-c408-4fc844ea4e10"
      },
      "outputs": [
        {
          "data": {
            "text/plain": [
              "['a', 2, 2.4, True, [1, 3], {'a:1'}]"
            ]
          },
          "execution_count": 2,
          "metadata": {},
          "output_type": "execute_result"
        }
      ],
      "source": [
        "lista = [\"a\", 2, 2.4, True, [1,3], {\"a:1\"}]\n",
        "lista"
      ]
    },
    {
      "cell_type": "code",
      "execution_count": 3,
      "metadata": {
        "colab": {
          "base_uri": "https://localhost:8080/"
        },
        "id": "kCQkatJBAlel",
        "outputId": "d24d0948-19f9-4182-8b0b-a54819904f1a"
      },
      "outputs": [
        {
          "data": {
            "text/plain": [
              "['a', 2, 2.4, True, [1, 3], {'a:1'}, 'Olá']"
            ]
          },
          "execution_count": 3,
          "metadata": {},
          "output_type": "execute_result"
        }
      ],
      "source": [
        "lista.append(\"Olá\")\n",
        "lista"
      ]
    },
    {
      "cell_type": "markdown",
      "metadata": {
        "id": "Avy6UMuuAlen"
      },
      "source": [
        "Importando o numpy"
      ]
    },
    {
      "cell_type": "code",
      "execution_count": 4,
      "metadata": {
        "id": "4zSMWRnqAleo"
      },
      "outputs": [],
      "source": [
        "import numpy as np"
      ]
    },
    {
      "attachments": {},
      "cell_type": "markdown",
      "metadata": {
        "id": "up_efyA7Aleo"
      },
      "source": [
        "## Arrays em numpy"
      ]
    },
    {
      "cell_type": "markdown",
      "metadata": {},
      "source": [
        "Um array é homogêneo, sempre irá priorizar o tipo mais complexo do componente dentro dele."
      ]
    },
    {
      "cell_type": "markdown",
      "metadata": {
        "id": "h4MGlQTLAlep"
      },
      "source": [
        "<img src = \"https://numpy.org/devdocs/_images/np_array.png\" />"
      ]
    },
    {
      "cell_type": "markdown",
      "metadata": {
        "id": "YEofh7adAleq"
      },
      "source": [
        "#### Criando arrays\n",
        "\n",
        "Pra criar arrays a partir de uma lista, basta utilizar a função **np.array()**"
      ]
    },
    {
      "cell_type": "code",
      "execution_count": 5,
      "metadata": {
        "colab": {
          "base_uri": "https://localhost:8080/"
        },
        "id": "_XnrmT2yAler",
        "outputId": "787b5256-1b56-46f6-a253-a9c19b63b7f8"
      },
      "outputs": [
        {
          "name": "stdout",
          "output_type": "stream",
          "text": [
            "[1 2 3]\n"
          ]
        }
      ],
      "source": [
        "print(np.array([1, 2, 3]))"
      ]
    },
    {
      "cell_type": "markdown",
      "metadata": {
        "id": "m-a2OjRLAler"
      },
      "source": [
        "#### Atributos básicos pra um ndarray"
      ]
    },
    {
      "cell_type": "code",
      "execution_count": 6,
      "metadata": {
        "id": "2F7Q8ARYQwJK"
      },
      "outputs": [
        {
          "data": {
            "text/plain": [
              "array([1, 2, 3, 4])"
            ]
          },
          "execution_count": 6,
          "metadata": {},
          "output_type": "execute_result"
        }
      ],
      "source": [
        "_array = np.array([1, 2, 3, 4])\n",
        "_array"
      ]
    },
    {
      "cell_type": "markdown",
      "metadata": {
        "id": "Qep8sX_FAles"
      },
      "source": [
        "O formato dele"
      ]
    },
    {
      "cell_type": "code",
      "execution_count": 7,
      "metadata": {
        "colab": {
          "base_uri": "https://localhost:8080/"
        },
        "id": "5t69lkgIAlet",
        "outputId": "c4b375b7-36e5-4cc9-d89c-a78c4bb3bc86"
      },
      "outputs": [
        {
          "data": {
            "text/plain": [
              "(4,)"
            ]
          },
          "execution_count": 7,
          "metadata": {},
          "output_type": "execute_result"
        }
      ],
      "source": [
        "# Retorna o formato do array (linhas x colunas)\n",
        "_array.shape"
      ]
    },
    {
      "cell_type": "markdown",
      "metadata": {
        "id": "f7dH5x2AAlet"
      },
      "source": [
        "Quantas dimensões ele tem"
      ]
    },
    {
      "cell_type": "code",
      "execution_count": 8,
      "metadata": {
        "colab": {
          "base_uri": "https://localhost:8080/"
        },
        "id": "NlyQd6_dAleu",
        "outputId": "222d80a3-dd9b-4692-a952-c30d126a534c"
      },
      "outputs": [
        {
          "data": {
            "text/plain": [
              "1"
            ]
          },
          "execution_count": 8,
          "metadata": {},
          "output_type": "execute_result"
        }
      ],
      "source": [
        "_array.ndim"
      ]
    },
    {
      "cell_type": "markdown",
      "metadata": {
        "id": "GeEc62_KAleu"
      },
      "source": [
        "Obter o tipo dos elementos do array (número, letra, ...)"
      ]
    },
    {
      "cell_type": "code",
      "execution_count": 9,
      "metadata": {
        "colab": {
          "base_uri": "https://localhost:8080/"
        },
        "id": "-_wyr4cnAlev",
        "outputId": "98bc73a3-940d-4f91-bf5f-309ec7a5cd83"
      },
      "outputs": [
        {
          "data": {
            "text/plain": [
              "dtype('int32')"
            ]
          },
          "execution_count": 9,
          "metadata": {},
          "output_type": "execute_result"
        }
      ],
      "source": [
        "# Retorna o tipo de dado preenche o array\n",
        "_array.dtype"
      ]
    },
    {
      "cell_type": "markdown",
      "metadata": {
        "id": "2rgnYfvCAlev"
      },
      "source": [
        "#### Tipo de dados em um ndarray"
      ]
    },
    {
      "cell_type": "markdown",
      "metadata": {
        "id": "vdi4sDdLAlew"
      },
      "source": [
        "O dtype de um array do numpy pode ser controlado na hora que a gente cria."
      ]
    },
    {
      "cell_type": "code",
      "execution_count": 10,
      "metadata": {
        "colab": {
          "base_uri": "https://localhost:8080/"
        },
        "id": "VFZv4N_TAlew",
        "outputId": "3ed1ff50-2e68-4194-a57b-e842ee552227"
      },
      "outputs": [
        {
          "name": "stdout",
          "output_type": "stream",
          "text": [
            "[1. 2. 3. 4.]\n"
          ]
        }
      ],
      "source": [
        "# Para controlar o tipo de dado que o array terá, basta determinar isso na sua criação\n",
        "_array = np.array([1, 2, 3, 4], dtype=np.float16)\n",
        "print(_array)"
      ]
    },
    {
      "cell_type": "code",
      "execution_count": 11,
      "metadata": {
        "colab": {
          "base_uri": "https://localhost:8080/"
        },
        "id": "7_xAjJwxRlgi",
        "outputId": "9ae4ef9e-47dc-4b00-f6b4-6ed5be1a8e49"
      },
      "outputs": [
        {
          "data": {
            "text/plain": [
              "dtype('float16')"
            ]
          },
          "execution_count": 11,
          "metadata": {},
          "output_type": "execute_result"
        }
      ],
      "source": [
        "_array.dtype"
      ]
    },
    {
      "cell_type": "markdown",
      "metadata": {
        "id": "siv0V07eAlex"
      },
      "source": [
        "Mas quando a gente não define o tipo de dados?"
      ]
    },
    {
      "cell_type": "code",
      "execution_count": 12,
      "metadata": {
        "colab": {
          "base_uri": "https://localhost:8080/"
        },
        "id": "pzqIPzwwAlex",
        "outputId": "805872d7-438f-4fce-fbef-15d220b064d9"
      },
      "outputs": [
        {
          "name": "stdout",
          "output_type": "stream",
          "text": [
            "[1. 2. 3.]\n",
            "float64\n"
          ]
        }
      ],
      "source": [
        "py_array_2 = [1.0,   2,  3.0]\n",
        "\n",
        "_array = np.array(py_array_2)\n",
        "\n",
        "print(_array)\n",
        "print(_array.dtype) # Por default, o tipo do array através da função é float64"
      ]
    },
    {
      "cell_type": "code",
      "execution_count": 13,
      "metadata": {
        "colab": {
          "base_uri": "https://localhost:8080/"
        },
        "id": "6nVv2mFUSZ58",
        "outputId": "e63a8870-19f6-4fa0-8181-23b4eeffe1b1"
      },
      "outputs": [
        {
          "name": "stdout",
          "output_type": "stream",
          "text": [
            "['a' '2' '3']\n",
            "<U11\n"
          ]
        }
      ],
      "source": [
        "py_array_string = ['a',   2,  3]\n",
        "np_array_string = np.array(py_array_string)\n",
        "\n",
        "print(np_array_string)\n",
        "print(np_array_string.dtype)\n"
      ]
    },
    {
      "cell_type": "code",
      "execution_count": 14,
      "metadata": {
        "colab": {
          "base_uri": "https://localhost:8080/"
        },
        "id": "Ax55AEwlS4t6",
        "outputId": "da25cfef-88cb-453a-e4db-c468ccb5f725"
      },
      "outputs": [
        {
          "name": "stdout",
          "output_type": "stream",
          "text": [
            "1\n",
            "(3,)\n"
          ]
        }
      ],
      "source": [
        "print(np_array_string.ndim)\n",
        "print(np_array_string.shape)"
      ]
    },
    {
      "cell_type": "code",
      "execution_count": 15,
      "metadata": {
        "colab": {
          "base_uri": "https://localhost:8080/"
        },
        "id": "fAgRFSzHWlbY",
        "outputId": "53a7e53e-144c-4d31-8b10-9006e32813ed"
      },
      "outputs": [
        {
          "data": {
            "text/plain": [
              "array([-24], dtype=int8)"
            ]
          },
          "execution_count": 15,
          "metadata": {},
          "output_type": "execute_result"
        }
      ],
      "source": [
        "# E se o número for maior que a representação\n",
        "np.array([1000], dtype=np.int8)"
      ]
    },
    {
      "cell_type": "markdown",
      "metadata": {
        "id": "W8_BwV8fAley"
      },
      "source": [
        "#### Formas de inicializar Arrays"
      ]
    },
    {
      "cell_type": "markdown",
      "metadata": {
        "id": "sWaPnlWHAlez"
      },
      "source": [
        "[numpy zeros](https://numpy.org/doc/stable/reference/generated/numpy.zeros.html)"
      ]
    },
    {
      "cell_type": "code",
      "execution_count": 16,
      "metadata": {
        "colab": {
          "base_uri": "https://localhost:8080/"
        },
        "id": "IyfOWOHdAle0",
        "outputId": "2df7dd50-3896-4aaf-fb85-1e3793441fe4"
      },
      "outputs": [
        {
          "data": {
            "text/plain": [
              "array([0., 0., 0., 0., 0., 0., 0., 0., 0., 0.])"
            ]
          },
          "execution_count": 16,
          "metadata": {},
          "output_type": "execute_result"
        }
      ],
      "source": [
        "# Array de zeros com np.zeros(n)\n",
        "np.zeros(10)"
      ]
    },
    {
      "cell_type": "code",
      "execution_count": 17,
      "metadata": {
        "colab": {
          "base_uri": "https://localhost:8080/"
        },
        "id": "n5Dd33QQU9fv",
        "outputId": "5169ee50-fc55-4885-ed80-3fbb2b192433"
      },
      "outputs": [
        {
          "data": {
            "text/plain": [
              "array([[0., 0., 0.],\n",
              "       [0., 0., 0.],\n",
              "       [0., 0., 0.],\n",
              "       [0., 0., 0.],\n",
              "       [0., 0., 0.]])"
            ]
          },
          "execution_count": 17,
          "metadata": {},
          "output_type": "execute_result"
        }
      ],
      "source": [
        "# Criando array só com 1s com np.ones(n)\n",
        "np.zeros((5,3))"
      ]
    },
    {
      "cell_type": "code",
      "execution_count": 18,
      "metadata": {
        "colab": {
          "base_uri": "https://localhost:8080/"
        },
        "id": "eFV4WSibVcHJ",
        "outputId": "c0df3c83-d985-454c-db4a-58856a7f5e0e"
      },
      "outputs": [
        {
          "data": {
            "text/plain": [
              "array([[0, 0, 0],\n",
              "       [0, 0, 0],\n",
              "       [0, 0, 0],\n",
              "       [0, 0, 0],\n",
              "       [0, 0, 0]], dtype=int8)"
            ]
          },
          "execution_count": 18,
          "metadata": {},
          "output_type": "execute_result"
        }
      ],
      "source": [
        "# Tipo Inteiro\n",
        "np.zeros((5,3), dtype=np.int8)"
      ]
    },
    {
      "cell_type": "markdown",
      "metadata": {
        "id": "aEK-5BoDAle0"
      },
      "source": [
        "[numpy ones](https://numpy.org/doc/stable/reference/generated/numpy.ones.html)"
      ]
    },
    {
      "cell_type": "code",
      "execution_count": 19,
      "metadata": {
        "colab": {
          "base_uri": "https://localhost:8080/"
        },
        "id": "ok2qiGECAle1",
        "outputId": "7c221df8-b795-470b-93ae-2680d5126256"
      },
      "outputs": [
        {
          "data": {
            "text/plain": [
              "array([[1., 1., 1.],\n",
              "       [1., 1., 1.],\n",
              "       [1., 1., 1.],\n",
              "       [1., 1., 1.],\n",
              "       [1., 1., 1.]])"
            ]
          },
          "execution_count": 19,
          "metadata": {},
          "output_type": "execute_result"
        }
      ],
      "source": [
        "np.ones((5,3))"
      ]
    },
    {
      "cell_type": "markdown",
      "metadata": {
        "id": "Uuf5bWuoAle1"
      },
      "source": [
        "[numpy arange](https://numpy.org/doc/stable/reference/generated/numpy.arange.html#numpy-arange)"
      ]
    },
    {
      "cell_type": "code",
      "execution_count": 20,
      "metadata": {
        "colab": {
          "base_uri": "https://localhost:8080/"
        },
        "id": "rBtC5e0GAle2",
        "outputId": "91deff61-3198-47c8-bfd3-b55c0d2fc06d"
      },
      "outputs": [
        {
          "data": {
            "text/plain": [
              "array([ 0,  2,  4,  6,  8, 10, 12, 14, 16, 18, 20, 22, 24, 26, 28, 30, 32,\n",
              "       34, 36, 38, 40, 42, 44, 46, 48, 50, 52, 54, 56, 58, 60, 62, 64, 66,\n",
              "       68, 70, 72, 74, 76, 78, 80, 82, 84, 86, 88, 90, 92, 94, 96, 98])"
            ]
          },
          "execution_count": 20,
          "metadata": {},
          "output_type": "execute_result"
        }
      ],
      "source": [
        "# Criando array de números em sequência com o np.arange() - análogo ao range()!\n",
        "np.arange(0, 100, 2)"
      ]
    },
    {
      "cell_type": "code",
      "execution_count": 21,
      "metadata": {
        "colab": {
          "base_uri": "https://localhost:8080/"
        },
        "id": "aMPoIVkkZosK",
        "outputId": "656942c3-aaa6-4dfe-8d2d-208bb4177f2c"
      },
      "outputs": [
        {
          "data": {
            "text/plain": [
              "array([0, 1, 2, 3, 4, 5, 6, 7, 8, 9])"
            ]
          },
          "execution_count": 21,
          "metadata": {},
          "output_type": "execute_result"
        }
      ],
      "source": [
        "# se der apenas um argumento, o padrão é começar em 0 com passo 1\n",
        "# ou seja, será uma sequência com o número indicado de elementos, iniciando em zero\n",
        "np.arange(10)"
      ]
    },
    {
      "cell_type": "markdown",
      "metadata": {
        "id": "WzOMGOx4Ale3"
      },
      "source": [
        "[numpy linspace](https://numpy.org/devdocs/reference/generated/numpy.linspace.html#numpy-linspace)"
      ]
    },
    {
      "cell_type": "markdown",
      "metadata": {
        "id": "Bw757uyDAle3"
      },
      "source": [
        "Gerar um array com **linspace** pode ser bastante útil quando queremos lidar com algumas situações em gráficos."
      ]
    },
    {
      "cell_type": "code",
      "execution_count": 22,
      "metadata": {
        "colab": {
          "base_uri": "https://localhost:8080/"
        },
        "id": "X1ufT6UDAle3",
        "outputId": "6d5842f2-dcb3-4c01-bf3e-58b7761dbf33"
      },
      "outputs": [
        {
          "data": {
            "text/plain": [
              "array([  1.,   2.,   3.,   4.,   5.,   6.,   7.,   8.,   9.,  10.,  11.,\n",
              "        12.,  13.,  14.,  15.,  16.,  17.,  18.,  19.,  20.,  21.,  22.,\n",
              "        23.,  24.,  25.,  26.,  27.,  28.,  29.,  30.,  31.,  32.,  33.,\n",
              "        34.,  35.,  36.,  37.,  38.,  39.,  40.,  41.,  42.,  43.,  44.,\n",
              "        45.,  46.,  47.,  48.,  49.,  50.,  51.,  52.,  53.,  54.,  55.,\n",
              "        56.,  57.,  58.,  59.,  60.,  61.,  62.,  63.,  64.,  65.,  66.,\n",
              "        67.,  68.,  69.,  70.,  71.,  72.,  73.,  74.,  75.,  76.,  77.,\n",
              "        78.,  79.,  80.,  81.,  82.,  83.,  84.,  85.,  86.,  87.,  88.,\n",
              "        89.,  90.,  91.,  92.,  93.,  94.,  95.,  96.,  97.,  98.,  99.,\n",
              "       100.])"
            ]
          },
          "execution_count": 22,
          "metadata": {},
          "output_type": "execute_result"
        }
      ],
      "source": [
        "# np.linspace(): array com sequência de valores igualmente espaçados\n",
        "# primeiro argumento: inicio do intervalo\n",
        "# segundo argumento: fim do intervalo\n",
        "# terceiro argumento: número de valores\n",
        "\n",
        "# np.linspace(0, 1, 100)\n",
        "np.linspace(1, 100, 100)"
      ]
    },
    {
      "cell_type": "markdown",
      "metadata": {
        "id": "FToKWKsGbsUA"
      },
      "source": [
        "Vamos fazer um gráfico"
      ]
    },
    {
      "cell_type": "code",
      "execution_count": 23,
      "metadata": {
        "colab": {
          "base_uri": "https://localhost:8080/"
        },
        "id": "SJOa9EIxbZzw",
        "outputId": "8dacf579-d8f2-4e91-be7c-809007dd429e"
      },
      "outputs": [
        {
          "name": "stdout",
          "output_type": "stream",
          "text": [
            "[ 0.          0.1010101   0.2020202   0.3030303   0.4040404   0.50505051\n",
            "  0.60606061  0.70707071  0.80808081  0.90909091  1.01010101  1.11111111\n",
            "  1.21212121  1.31313131  1.41414141  1.51515152  1.61616162  1.71717172\n",
            "  1.81818182  1.91919192  2.02020202  2.12121212  2.22222222  2.32323232\n",
            "  2.42424242  2.52525253  2.62626263  2.72727273  2.82828283  2.92929293\n",
            "  3.03030303  3.13131313  3.23232323  3.33333333  3.43434343  3.53535354\n",
            "  3.63636364  3.73737374  3.83838384  3.93939394  4.04040404  4.14141414\n",
            "  4.24242424  4.34343434  4.44444444  4.54545455  4.64646465  4.74747475\n",
            "  4.84848485  4.94949495  5.05050505  5.15151515  5.25252525  5.35353535\n",
            "  5.45454545  5.55555556  5.65656566  5.75757576  5.85858586  5.95959596\n",
            "  6.06060606  6.16161616  6.26262626  6.36363636  6.46464646  6.56565657\n",
            "  6.66666667  6.76767677  6.86868687  6.96969697  7.07070707  7.17171717\n",
            "  7.27272727  7.37373737  7.47474747  7.57575758  7.67676768  7.77777778\n",
            "  7.87878788  7.97979798  8.08080808  8.18181818  8.28282828  8.38383838\n",
            "  8.48484848  8.58585859  8.68686869  8.78787879  8.88888889  8.98989899\n",
            "  9.09090909  9.19191919  9.29292929  9.39393939  9.49494949  9.5959596\n",
            "  9.6969697   9.7979798   9.8989899  10.        ] \n",
            " [ 0.          0.10083842  0.20064886  0.2984138   0.39313661  0.48385164\n",
            "  0.56963411  0.64960951  0.72296256  0.78894546  0.84688556  0.8961922\n",
            "  0.93636273  0.96698762  0.98775469  0.99845223  0.99897117  0.98930624\n",
            "  0.96955595  0.93992165  0.90070545  0.85230712  0.79522006  0.73002623\n",
            "  0.65739025  0.57805259  0.49282204  0.40256749  0.30820902  0.21070855\n",
            "  0.11106004  0.01027934 -0.09060615 -0.19056796 -0.28858706 -0.38366419\n",
            " -0.47483011 -0.56115544 -0.64176014 -0.7158225  -0.7825875  -0.84137452\n",
            " -0.89158426 -0.93270486 -0.96431712 -0.98609877 -0.99782778 -0.99938456\n",
            " -0.99075324 -0.97202182 -0.94338126 -0.90512352 -0.85763861 -0.80141062\n",
            " -0.73701276 -0.66510151 -0.58640998 -0.50174037 -0.41195583 -0.31797166\n",
            " -0.22074597 -0.12126992 -0.0205576   0.0803643   0.18046693  0.27872982\n",
            "  0.37415123  0.46575841  0.55261747  0.63384295  0.7086068   0.77614685\n",
            "  0.83577457  0.8868821   0.92894843  0.96154471  0.98433866  0.99709789\n",
            "  0.99969234  0.99209556  0.97438499  0.94674118  0.90944594  0.86287948\n",
            "  0.8075165   0.74392141  0.6727425   0.59470541  0.51060568  0.42130064\n",
            "  0.32770071  0.23076008  0.13146699  0.03083368 -0.07011396 -0.17034683\n",
            " -0.26884313 -0.36459873 -0.45663749 -0.54402111]\n"
          ]
        }
      ],
      "source": [
        "import matplotlib.pyplot as plt\n",
        "\n",
        "x = np.linspace(0, 10, 100)\n",
        "y = np.sin(x)\n",
        "\n",
        "print (x, '\\n', y)"
      ]
    },
    {
      "cell_type": "code",
      "execution_count": 24,
      "metadata": {
        "colab": {
          "base_uri": "https://localhost:8080/",
          "height": 283
        },
        "id": "DjEcWyKPc31u",
        "outputId": "e3008367-4fd0-41c6-aef9-433224e8c6b2"
      },
      "outputs": [
        {
          "data": {
            "text/plain": [
              "[<matplotlib.lines.Line2D at 0x1db2861a2e0>]"
            ]
          },
          "execution_count": 24,
          "metadata": {},
          "output_type": "execute_result"
        },
        {
          "data": {
            "image/png": "[encoded data removed]",
            "text/plain": [
              "<Figure size 640x480 with 1 Axes>"
            ]
          },
          "metadata": {},
          "output_type": "display_data"
        }
      ],
      "source": [
        "plt.plot(x,y)"
      ]
    },
    {
      "cell_type": "markdown",
      "metadata": {
        "id": "eUSTN0tKAle4"
      },
      "source": [
        "[numpy random](https://numpy.org/doc/stable/reference/random/index.html#module-numpy.random)"
      ]
    },
    {
      "cell_type": "markdown",
      "metadata": {
        "id": "Lkq7c5eCAle4"
      },
      "source": [
        "Array com valores aleatorios de uma distribuição uniforme entre 0 e 1 (exclusivo)"
      ]
    },
    {
      "cell_type": "code",
      "execution_count": null,
      "metadata": {
        "colab": {
          "base_uri": "https://localhost:8080/"
        },
        "id": "zdfgN_TxAle4",
        "outputId": "376865da-38e1-4145-f186-c0ee04864833"
      },
      "outputs": [
        {
          "data": {
            "text/plain": [
              "array([0.81515716, 0.12978224, 0.84670158, 0.5578896 , 0.54406805,\n",
              "       0.24283765, 0.15228401, 0.79656477, 0.54502284, 0.0191908 ])"
            ]
          },
          "execution_count": 24,
          "metadata": {},
          "output_type": "execute_result"
        }
      ],
      "source": [
        "# np.random.rand()\n",
        "# array com valores aleatorios de uma distribuição uniforme entre 0 e 1 (exclusivo)\n",
        "\n",
        "np.random.rand(10)"
      ]
    },
    {
      "cell_type": "code",
      "execution_count": null,
      "metadata": {
        "colab": {
          "base_uri": "https://localhost:8080/"
        },
        "id": "YkRDwi7Hdwhj",
        "outputId": "15bb2cfb-928c-4964-b6bb-bace2032465f"
      },
      "outputs": [
        {
          "data": {
            "text/plain": [
              "array([32.88951362, 45.17143943, 31.23103734,  8.6833021 , 16.0987776 ,\n",
              "       29.03714816, 32.73660689, 49.80140593, 33.42152939, 33.26530963])"
            ]
          },
          "execution_count": 25,
          "metadata": {},
          "output_type": "execute_result"
        }
      ],
      "source": [
        "# Alterando intervalo para 0 até 55\n",
        "\n",
        "np.random.rand(10)*55"
      ]
    },
    {
      "cell_type": "code",
      "execution_count": null,
      "metadata": {
        "colab": {
          "base_uri": "https://localhost:8080/"
        },
        "id": "4FO6V3leeOyH",
        "outputId": "9e4bbd88-d22b-4428-a1ba-b184b4afe2e2"
      },
      "outputs": [
        {
          "data": {
            "text/plain": [
              "array([51.36273059, 21.04025448, 55.99056414, 51.5818575 ,  6.03698376,\n",
              "       18.63436224, 24.07986833, 38.47568378, 52.32194625, 14.71904949])"
            ]
          },
          "execution_count": 26,
          "metadata": {},
          "output_type": "execute_result"
        }
      ],
      "source": [
        "# Alterando intervalo para 5 até 60\n",
        "np.random.rand(10)*55 + 5"
      ]
    },
    {
      "cell_type": "code",
      "execution_count": null,
      "metadata": {
        "colab": {
          "base_uri": "https://localhost:8080/",
          "height": 283
        },
        "id": "f9gtNHzbelvz",
        "outputId": "1cd4fbfb-c17b-455c-ee1e-1e6b7087eb6f"
      },
      "outputs": [
        {
          "data": {
            "text/plain": [
              "<AxesSubplot: ylabel='Count'>"
            ]
          },
          "execution_count": 27,
          "metadata": {},
          "output_type": "execute_result"
        },
        {
          "data": {
            "image/png": "[encoded data removed]",
            "text/plain": [
              "<Figure size 640x480 with 1 Axes>"
            ]
          },
          "metadata": {},
          "output_type": "display_data"
        }
      ],
      "source": [
        "# plotando distribuições (uniforme e normal) com o seaborn\n",
        "import seaborn as sns\n",
        "x = np.random.rand(100000)*55 + 5\n",
        "sns.histplot(x)"
      ]
    },
    {
      "cell_type": "markdown",
      "metadata": {
        "id": "6cTc9SODAle5"
      },
      "source": [
        "Array com inteiros aleatórios dentro de um intervalo"
      ]
    },
    {
      "cell_type": "code",
      "execution_count": null,
      "metadata": {
        "colab": {
          "base_uri": "https://localhost:8080/"
        },
        "id": "OtJGClxIAle6",
        "outputId": "ed1e6ee5-4eae-440b-f8c7-cb3828c0e9e5"
      },
      "outputs": [
        {
          "data": {
            "text/plain": [
              "array([692, 963, 130, 559, 411, 920, 461, 464, 101, 521, 593, 455, 643,\n",
              "       670, 857])"
            ]
          },
          "execution_count": 28,
          "metadata": {},
          "output_type": "execute_result"
        }
      ],
      "source": [
        "# np.random.randint()\n",
        "# array com inteiros aleatórios dentro de um intervalo\n",
        "# argumentos: início do intervalo, fim do intervalo (exclusivo), quantidade de números\n",
        "\n",
        "np.random.randint(0, 1000, 15)"
      ]
    },
    {
      "cell_type": "markdown",
      "metadata": {
        "id": "ZCPGcb9rAle6"
      },
      "source": [
        "Fixando a seed: números aleatórios reproduzíveis"
      ]
    },
    {
      "attachments": {},
      "cell_type": "markdown",
      "metadata": {},
      "source": [
        "[A Quick Introduction to Numpy Random Normal](https://www.sharpsightlabs.com/blog/numpy-random-normal/)"
      ]
    },
    {
      "cell_type": "code",
      "execution_count": null,
      "metadata": {
        "colab": {
          "base_uri": "https://localhost:8080/"
        },
        "id": "rgjKOw-lAle6",
        "outputId": "31ef7db0-6073-426d-a5f8-b535a5ad29eb"
      },
      "outputs": [
        {
          "data": {
            "text/plain": [
              "array([ 9, 13,  4,  0,  1, 11, 12,  9, 13,  0, 13,  1, 10,  8,  9,  0, 10,\n",
              "        8,  6,  4])"
            ]
          },
          "execution_count": 29,
          "metadata": {},
          "output_type": "execute_result"
        }
      ],
      "source": [
        "# fixando a seed: números aleatórios reproduzíveis, com np.random.seed()\n",
        "\n",
        "np.random.seed(10)\n",
        "np.random.randint(0, 15, 20)"
      ]
    },
    {
      "cell_type": "markdown",
      "metadata": {
        "id": "cp9S83ktAle7"
      },
      "source": [
        "Também conseguimos trabalhar com **distribuições estatísticas de probabilidade**. Vejamos, por exemplo, como é possível gerar números aleatórios que obedeçam a uma distribuição normal.\n",
        "\n",
        "<img src = \"https://www.allaboutcircuits.com/uploads/articles/an-introduction-to-the-normal-distribution-in-electrical-engineerin-rk-aac-image1.jpg\" />"
      ]
    },
    {
      "cell_type": "markdown",
      "metadata": {
        "id": "-yW3eqkKAle8"
      },
      "source": [
        "Array com números aleatórios de uma distribuição normal (gaussiana)"
      ]
    },
    {
      "cell_type": "code",
      "execution_count": null,
      "metadata": {
        "colab": {
          "base_uri": "https://localhost:8080/"
        },
        "id": "Er6qDbamAle9",
        "outputId": "4e2e8535-9931-4a22-858f-203fb7d6adeb"
      },
      "outputs": [
        {
          "data": {
            "text/plain": [
              "array([ 0.96566614,  0.56066394,  0.74993163, -0.31455963,  0.36624858,\n",
              "        0.60808856, -1.08684028,  0.12055902,  1.40202525, -0.4342591 ,\n",
              "       -1.25424191,  0.33157855, -0.30860049, -0.15373549,  0.67893119,\n",
              "       -1.91355421, -0.94245806, -1.74554298, -1.02094527, -0.16206903])"
            ]
          },
          "execution_count": 30,
          "metadata": {},
          "output_type": "execute_result"
        }
      ],
      "source": [
        "# np.random.normal()\n",
        "# array com números aleatórios de uma distribuição normal (gaussiana)\n",
        "# argumentos: média, desvio padrão, quantidade de números\n",
        "\n",
        "arr = np.random.normal(0, 1, 20)\n",
        "arr"
      ]
    },
    {
      "cell_type": "code",
      "execution_count": null,
      "metadata": {
        "colab": {
          "base_uri": "https://localhost:8080/"
        },
        "id": "FloK1EFKis9z",
        "outputId": "bd53c4c6-c0f7-4c7d-e160-96127ec0dbaf"
      },
      "outputs": [
        {
          "data": {
            "text/plain": [
              "-0.17765567811186547"
            ]
          },
          "execution_count": 31,
          "metadata": {},
          "output_type": "execute_result"
        }
      ],
      "source": [
        "# Quanto maior a amostra mais proximos serão os resultados\n",
        "\n",
        "arr.mean()"
      ]
    },
    {
      "cell_type": "code",
      "execution_count": null,
      "metadata": {
        "colab": {
          "base_uri": "https://localhost:8080/"
        },
        "id": "YDGdiUvRiw2k",
        "outputId": "b02b8b91-5fb3-4fda-a4a9-bcbec0021633"
      },
      "outputs": [
        {
          "data": {
            "text/plain": [
              "0.8960805682299936"
            ]
          },
          "execution_count": 32,
          "metadata": {},
          "output_type": "execute_result"
        }
      ],
      "source": [
        "# Quanto maior a amostra mais proximos serão os resultados\n",
        "\n",
        "arr.std()"
      ]
    },
    {
      "cell_type": "markdown",
      "metadata": {
        "id": "g05ikoz8Ale9"
      },
      "source": [
        "__Uma pequena olhada...__\n",
        "\n",
        "plotando distribuições com o seaborn"
      ]
    },
    {
      "cell_type": "code",
      "execution_count": null,
      "metadata": {
        "colab": {
          "base_uri": "https://localhost:8080/",
          "height": 283
        },
        "id": "i0zuzLOtAle-",
        "outputId": "7829db61-caac-4609-e61c-61db976ea908"
      },
      "outputs": [
        {
          "data": {
            "text/plain": [
              "<AxesSubplot: ylabel='Count'>"
            ]
          },
          "execution_count": 33,
          "metadata": {},
          "output_type": "execute_result"
        },
        {
          "data": {
            "image/png": "[encoded data removed]",
            "text/plain": [
              "<Figure size 640x480 with 1 Axes>"
            ]
          },
          "metadata": {},
          "output_type": "display_data"
        }
      ],
      "source": [
        "# plotando distribuições (uniforme e normal) com o seaborn\n",
        "import seaborn as sns\n",
        "x = np.random.normal(0, 1, 10000)\n",
        "sns.histplot(x, kde=True)"
      ]
    },
    {
      "cell_type": "markdown",
      "metadata": {
        "id": "q-Z4SuG3ZosV"
      },
      "source": [
        "#### Indexação\n",
        "\n",
        "É possível acessar elementos individuais dos arrays pelos **índices**, da mesma forma que fazemos com listas.\n",
        "\n",
        "<img src = \"https://numpy.org/devdocs/_images/np_indexing.png\" />"
      ]
    },
    {
      "cell_type": "code",
      "execution_count": null,
      "metadata": {
        "id": "W2r4ayXbZosW"
      },
      "outputs": [
        {
          "data": {
            "text/plain": [
              "array([ 2,  5,  8, 11, 14, 17, 20, 23, 26, 29, 32, 35, 38, 41, 44, 47])"
            ]
          },
          "execution_count": 34,
          "metadata": {},
          "output_type": "execute_result"
        }
      ],
      "source": [
        "# criando novamente um array sequencial\n",
        "arr = np.arange(2,50,3)\n",
        "arr"
      ]
    },
    {
      "cell_type": "code",
      "execution_count": null,
      "metadata": {},
      "outputs": [
        {
          "data": {
            "text/plain": [
              "8"
            ]
          },
          "execution_count": 35,
          "metadata": {},
          "output_type": "execute_result"
        }
      ],
      "source": [
        "# acessando elementos individuais\n",
        "arr[2]"
      ]
    },
    {
      "cell_type": "code",
      "execution_count": null,
      "metadata": {},
      "outputs": [
        {
          "data": {
            "text/plain": [
              "38"
            ]
          },
          "execution_count": 36,
          "metadata": {},
          "output_type": "execute_result"
        }
      ],
      "source": [
        "# índices negativos\n",
        "arr[-4]"
      ]
    },
    {
      "cell_type": "code",
      "execution_count": null,
      "metadata": {},
      "outputs": [
        {
          "data": {
            "text/plain": [
              "array([ 8, 11, 14])"
            ]
          },
          "execution_count": 37,
          "metadata": {},
          "output_type": "execute_result"
        }
      ],
      "source": [
        "# pegando fatias do array (slicing)\n",
        "arr[2:5]"
      ]
    },
    {
      "cell_type": "code",
      "execution_count": null,
      "metadata": {},
      "outputs": [
        {
          "data": {
            "text/plain": [
              "array([ 2,  5,  8, 11, 14])"
            ]
          },
          "execution_count": 38,
          "metadata": {},
          "output_type": "execute_result"
        }
      ],
      "source": [
        "# slicing sem inicio do intervalo\n",
        "arr[:5]"
      ]
    },
    {
      "cell_type": "code",
      "execution_count": null,
      "metadata": {},
      "outputs": [
        {
          "data": {
            "text/plain": [
              "array([38, 41, 44, 47])"
            ]
          },
          "execution_count": 39,
          "metadata": {},
          "output_type": "execute_result"
        }
      ],
      "source": [
        "# slicing sem fim do intervalo\n",
        "arr[-4:]"
      ]
    },
    {
      "cell_type": "markdown",
      "metadata": {
        "id": "TCV3QDzNZosW"
      },
      "source": [
        "#### Trocando o tipo dos dados nas lista com o .astype()"
      ]
    },
    {
      "cell_type": "code",
      "execution_count": null,
      "metadata": {
        "colab": {
          "base_uri": "https://localhost:8080/"
        },
        "id": "4tgmHgZjZosX",
        "outputId": "ad0f2993-55f0-45a8-f132-294d278304b8"
      },
      "outputs": [
        {
          "name": "stdout",
          "output_type": "stream",
          "text": [
            "float64\n",
            "[1.  1.7 2.4 3. ]\n",
            "int64\n",
            "[1 1 2 3]\n"
          ]
        }
      ],
      "source": [
        "arr = np.array([1, 1.7, 2.4, 3.0])\n",
        "\n",
        "print(arr.dtype)\n",
        "print(arr)\n",
        "\n",
        "arr = arr.astype(np.int64)\n",
        "\n",
        "print(arr.dtype)\n",
        "print(arr)"
      ]
    },
    {
      "cell_type": "markdown",
      "metadata": {
        "id": "0BMz-BFGAle-"
      },
      "source": [
        "#### Operações simples\n",
        "\n",
        "É possível fazer operações matemáticas **elemento a elemento** com os arrays, de forma bem simples:"
      ]
    },
    {
      "cell_type": "markdown",
      "metadata": {
        "ExecuteTime": {
          "end_time": "2020-01-04T20:59:48.500686Z",
          "start_time": "2020-01-04T20:59:48.495192Z"
        },
        "id": "qf1oOeYRAle_"
      },
      "source": [
        "Em numpy, as operações básicas (+, -, *, /, ...) funcionam elemento a elemento"
      ]
    },
    {
      "cell_type": "code",
      "execution_count": null,
      "metadata": {
        "id": "ktCpYNtiAle_"
      },
      "outputs": [],
      "source": [
        "arr = np.array([1, 2, 3, 4])"
      ]
    },
    {
      "cell_type": "code",
      "execution_count": null,
      "metadata": {
        "colab": {
          "base_uri": "https://localhost:8080/"
        },
        "id": "ZCxVNsdQk5F1",
        "outputId": "45b8bca3-d131-4383-fcbb-d6f9325cff24"
      },
      "outputs": [
        {
          "data": {
            "text/plain": [
              "array([3, 4, 5, 6])"
            ]
          },
          "execution_count": 42,
          "metadata": {},
          "output_type": "execute_result"
        }
      ],
      "source": [
        "arr + 2"
      ]
    },
    {
      "cell_type": "code",
      "execution_count": null,
      "metadata": {
        "colab": {
          "base_uri": "https://localhost:8080/"
        },
        "id": "aFLDRjuEk_X1",
        "outputId": "c0ba7973-6199-4c58-caa3-9e1b749e8878"
      },
      "outputs": [
        {
          "data": {
            "text/plain": [
              "array([ 1,  4,  9, 16])"
            ]
          },
          "execution_count": 43,
          "metadata": {},
          "output_type": "execute_result"
        }
      ],
      "source": [
        "arr * arr"
      ]
    },
    {
      "cell_type": "code",
      "execution_count": null,
      "metadata": {
        "colab": {
          "base_uri": "https://localhost:8080/"
        },
        "id": "Wwj_NxzAljko",
        "outputId": "0722dc39-ffd2-412e-ebac-426742d23e53"
      },
      "outputs": [
        {
          "name": "stdout",
          "output_type": "stream",
          "text": [
            "[1 2 3 4]\n",
            "[1 4 6 4]\n"
          ]
        }
      ],
      "source": [
        "# Operação em parte do vetor\n",
        "print(arr)\n",
        "arr[1:3] = arr[1:3] * 2\n",
        "print(arr)"
      ]
    },
    {
      "cell_type": "code",
      "execution_count": null,
      "metadata": {},
      "outputs": [
        {
          "name": "stdout",
          "output_type": "stream",
          "text": [
            "arr1 =  [20 19 19 20 20 20 21 20] \n",
            "arr2 =  [6 6 8 8 7 3 5 0]\n"
          ]
        }
      ],
      "source": [
        "# criando novamente um array sequencial\n",
        "arr1 = np.random.normal(20, 1, 8).astype(np.int64)\n",
        "arr2 = np.random.normal(7, 2.5, 8).astype(np.int64)\n",
        "\n",
        "print('arr1 = ', arr1, '\\narr2 = ', arr2)"
      ]
    },
    {
      "cell_type": "code",
      "execution_count": null,
      "metadata": {},
      "outputs": [
        {
          "data": {
            "text/plain": [
              "array([40, 38, 38, 40, 40, 40, 42, 40], dtype=int64)"
            ]
          },
          "execution_count": 46,
          "metadata": {},
          "output_type": "execute_result"
        }
      ],
      "source": [
        "arr1 * 2"
      ]
    },
    {
      "cell_type": "code",
      "execution_count": null,
      "metadata": {},
      "outputs": [
        {
          "data": {
            "text/plain": [
              "array([ 8,  8, 10, 10,  9,  5,  7,  2], dtype=int64)"
            ]
          },
          "execution_count": 47,
          "metadata": {},
          "output_type": "execute_result"
        }
      ],
      "source": [
        "arr2 + 2"
      ]
    },
    {
      "cell_type": "code",
      "execution_count": null,
      "metadata": {},
      "outputs": [
        {
          "data": {
            "text/plain": [
              "array([10. ,  9.5,  9.5, 10. , 10. , 10. , 10.5, 10. ])"
            ]
          },
          "execution_count": 48,
          "metadata": {},
          "output_type": "execute_result"
        }
      ],
      "source": [
        "arr1 / 2"
      ]
    },
    {
      "cell_type": "code",
      "execution_count": null,
      "metadata": {},
      "outputs": [
        {
          "data": {
            "text/plain": [
              "array([400, 361, 361, 400, 400, 400, 441, 400], dtype=int64)"
            ]
          },
          "execution_count": 49,
          "metadata": {},
          "output_type": "execute_result"
        }
      ],
      "source": [
        "arr1 ** 2"
      ]
    },
    {
      "cell_type": "code",
      "execution_count": null,
      "metadata": {},
      "outputs": [
        {
          "data": {
            "text/plain": [
              "array([26, 25, 27, 28, 27, 23, 26, 20], dtype=int64)"
            ]
          },
          "execution_count": 50,
          "metadata": {},
          "output_type": "execute_result"
        }
      ],
      "source": [
        "arr1 + arr2"
      ]
    },
    {
      "cell_type": "code",
      "execution_count": null,
      "metadata": {},
      "outputs": [
        {
          "data": {
            "text/plain": [
              "array([120, 114, 152, 160, 140,  60, 105,   0], dtype=int64)"
            ]
          },
          "execution_count": 51,
          "metadata": {},
          "output_type": "execute_result"
        }
      ],
      "source": [
        "arr1 * arr2"
      ]
    },
    {
      "cell_type": "code",
      "execution_count": null,
      "metadata": {},
      "outputs": [
        {
          "name": "stderr",
          "output_type": "stream",
          "text": [
            "C:\\Users\\rober\\AppData\\Local\\Temp\\ipykernel_23592\\1771818627.py:1: RuntimeWarning: divide by zero encountered in divide\n",
            "  arr1 / arr2\n"
          ]
        },
        {
          "data": {
            "text/plain": [
              "array([3.33333333, 3.16666667, 2.375     , 2.5       , 2.85714286,\n",
              "       6.66666667, 4.2       ,        inf])"
            ]
          },
          "execution_count": 52,
          "metadata": {},
          "output_type": "execute_result"
        }
      ],
      "source": [
        "arr1 / arr2"
      ]
    },
    {
      "cell_type": "code",
      "execution_count": null,
      "metadata": {},
      "outputs": [],
      "source": [
        "arr = np.array([0, 1, np.inf, np.nan, -np.inf])"
      ]
    },
    {
      "cell_type": "code",
      "execution_count": null,
      "metadata": {},
      "outputs": [
        {
          "name": "stderr",
          "output_type": "stream",
          "text": [
            "C:\\Users\\rober\\AppData\\Local\\Temp\\ipykernel_23592\\4291252909.py:1: RuntimeWarning: divide by zero encountered in divide\n",
            "  arr/0\n",
            "C:\\Users\\rober\\AppData\\Local\\Temp\\ipykernel_23592\\4291252909.py:1: RuntimeWarning: invalid value encountered in divide\n",
            "  arr/0\n"
          ]
        },
        {
          "data": {
            "text/plain": [
              "array([ nan,  inf,  inf,  nan, -inf])"
            ]
          },
          "execution_count": 54,
          "metadata": {},
          "output_type": "execute_result"
        }
      ],
      "source": [
        "arr/0"
      ]
    },
    {
      "cell_type": "code",
      "execution_count": null,
      "metadata": {},
      "outputs": [
        {
          "name": "stderr",
          "output_type": "stream",
          "text": [
            "C:\\Users\\rober\\AppData\\Local\\Temp\\ipykernel_23592\\2962869194.py:1: RuntimeWarning: invalid value encountered in divide\n",
            "  arr/np.inf\n"
          ]
        },
        {
          "data": {
            "text/plain": [
              "array([ 0.,  0., nan, nan, nan])"
            ]
          },
          "execution_count": 55,
          "metadata": {},
          "output_type": "execute_result"
        }
      ],
      "source": [
        "arr/np.inf"
      ]
    },
    {
      "cell_type": "markdown",
      "metadata": {
        "id": "lhy4FTjLAle_"
      },
      "source": [
        "#### Funções de Agregação"
      ]
    },
    {
      "cell_type": "code",
      "execution_count": null,
      "metadata": {
        "id": "64TQzZOfl0M9"
      },
      "outputs": [],
      "source": [
        "arr = np.array([15, 10, -5, 50, 60, 25])"
      ]
    },
    {
      "cell_type": "markdown",
      "metadata": {
        "id": "aXq3OBo1AlfA"
      },
      "source": [
        "Maior valor"
      ]
    },
    {
      "cell_type": "code",
      "execution_count": null,
      "metadata": {
        "colab": {
          "base_uri": "https://localhost:8080/"
        },
        "id": "Y05TMVtpAlfA",
        "outputId": "2937d6cd-5aed-41b1-c650-14b5966dbacb"
      },
      "outputs": [
        {
          "data": {
            "text/plain": [
              "60"
            ]
          },
          "execution_count": 57,
          "metadata": {},
          "output_type": "execute_result"
        }
      ],
      "source": [
        "arr.max()\n",
        "\n",
        "np.max(arr)"
      ]
    },
    {
      "cell_type": "markdown",
      "metadata": {
        "id": "UkxkQMwJAlfB"
      },
      "source": [
        "Indice do elemento máximo"
      ]
    },
    {
      "cell_type": "code",
      "execution_count": null,
      "metadata": {
        "colab": {
          "base_uri": "https://localhost:8080/"
        },
        "id": "s5nMnja8AlfB",
        "outputId": "d48bd6dd-5e00-4256-cde0-1dd8b821153b"
      },
      "outputs": [
        {
          "data": {
            "text/plain": [
              "4"
            ]
          },
          "execution_count": 58,
          "metadata": {},
          "output_type": "execute_result"
        }
      ],
      "source": [
        "arr.argmax()"
      ]
    },
    {
      "cell_type": "markdown",
      "metadata": {
        "id": "1gGJsJIDAlfC"
      },
      "source": [
        "Menor valor"
      ]
    },
    {
      "cell_type": "code",
      "execution_count": null,
      "metadata": {
        "colab": {
          "base_uri": "https://localhost:8080/"
        },
        "id": "2jxK7PT4AlfC",
        "outputId": "d6984730-e84e-4931-b083-cbcff527a8cc"
      },
      "outputs": [
        {
          "data": {
            "text/plain": [
              "-5"
            ]
          },
          "execution_count": 59,
          "metadata": {},
          "output_type": "execute_result"
        }
      ],
      "source": [
        "arr.min()"
      ]
    },
    {
      "cell_type": "markdown",
      "metadata": {
        "id": "UT03kBkJAlfD"
      },
      "source": [
        "Indice do elemento minimo"
      ]
    },
    {
      "cell_type": "code",
      "execution_count": null,
      "metadata": {
        "colab": {
          "base_uri": "https://localhost:8080/"
        },
        "id": "DgpLf7C3AlfE",
        "outputId": "0eee0741-e109-4713-b526-25a9959bf75f"
      },
      "outputs": [
        {
          "data": {
            "text/plain": [
              "2"
            ]
          },
          "execution_count": 60,
          "metadata": {},
          "output_type": "execute_result"
        }
      ],
      "source": [
        "arr.argmin()"
      ]
    },
    {
      "cell_type": "markdown",
      "metadata": {
        "id": "bm_CtkBbAlfE"
      },
      "source": [
        "Soma de todos os items"
      ]
    },
    {
      "cell_type": "code",
      "execution_count": null,
      "metadata": {
        "colab": {
          "base_uri": "https://localhost:8080/"
        },
        "id": "dUGBJAddAlfF",
        "outputId": "f7e5e065-0450-4528-dd1b-df34394ca9cd"
      },
      "outputs": [
        {
          "data": {
            "text/plain": [
              "155"
            ]
          },
          "execution_count": 61,
          "metadata": {},
          "output_type": "execute_result"
        }
      ],
      "source": [
        "arr.sum()"
      ]
    },
    {
      "cell_type": "markdown",
      "metadata": {
        "id": "fws255gvAlfF"
      },
      "source": [
        "Media dos elementos"
      ]
    },
    {
      "cell_type": "code",
      "execution_count": null,
      "metadata": {
        "colab": {
          "base_uri": "https://localhost:8080/"
        },
        "id": "gCvjToR2AlfG",
        "outputId": "7a0fd429-0ba9-4237-ade7-056d2a7c8b52"
      },
      "outputs": [
        {
          "data": {
            "text/plain": [
              "25.833333333333332"
            ]
          },
          "execution_count": 62,
          "metadata": {},
          "output_type": "execute_result"
        }
      ],
      "source": [
        "arr.mean()"
      ]
    },
    {
      "cell_type": "markdown",
      "metadata": {
        "id": "7jZfnvnWAlfG"
      },
      "source": [
        "Desvio padrão"
      ]
    },
    {
      "cell_type": "code",
      "execution_count": null,
      "metadata": {
        "colab": {
          "base_uri": "https://localhost:8080/"
        },
        "id": "6BnNAQSoAlfG",
        "outputId": "6f1d5ba5-a661-45da-816c-10b2f16e21b5"
      },
      "outputs": [
        {
          "data": {
            "text/plain": [
              "22.623119934163714"
            ]
          },
          "execution_count": 63,
          "metadata": {},
          "output_type": "execute_result"
        }
      ],
      "source": [
        "arr.std()"
      ]
    },
    {
      "cell_type": "markdown",
      "metadata": {
        "id": "RlEERJI-AlfH"
      },
      "source": [
        "Ordenar a lista"
      ]
    },
    {
      "cell_type": "code",
      "execution_count": null,
      "metadata": {
        "colab": {
          "base_uri": "https://localhost:8080/"
        },
        "id": "aus88MK-AlfH",
        "outputId": "3bc87d0a-652d-49df-b092-5e0025e0e8a6"
      },
      "outputs": [
        {
          "name": "stdout",
          "output_type": "stream",
          "text": [
            "[15 10 -5 50 60 25]\n",
            "[-5 10 15 25 50 60]\n"
          ]
        }
      ],
      "source": [
        "print(arr)\n",
        "arr.sort()\n",
        "print(arr)"
      ]
    },
    {
      "cell_type": "code",
      "execution_count": null,
      "metadata": {
        "colab": {
          "base_uri": "https://localhost:8080/"
        },
        "id": "QAv12oq2nQbu",
        "outputId": "39008ff9-8cdc-48d9-ec4a-535d0b195148"
      },
      "outputs": [
        {
          "name": "stdout",
          "output_type": "stream",
          "text": [
            "[15 10 -5 50 60 25]\n",
            "[-5 10 15 25 50 60]\n",
            "[15 10 -5 50 60 25]\n"
          ]
        }
      ],
      "source": [
        "#Ordena sem alterar o original\n",
        "arr = np.array([15, 10, -5, 50, 60, 25])\n",
        "print(arr)\n",
        "print(np.sort(arr))\n",
        "print(arr)"
      ]
    },
    {
      "cell_type": "markdown",
      "metadata": {
        "id": "uaPCH9NdZosl"
      },
      "source": [
        "#### Filtrando Dados\n",
        "\n",
        "Uma das funções mais importantes do numpy é a possibilidade de construção de **filtros**, que também são chamados de **máscaras**\n",
        "\n",
        "O objetivo dos filtros é **selecionar apenas os elementos de um array que satisfaçam determinada condição**"
      ]
    },
    {
      "cell_type": "markdown",
      "metadata": {
        "id": "IKwimTXBZosn"
      },
      "source": [
        "Ao usar um **operador lógico** juntamente com um array, o numpy **aplica a operação lógica a cada um dos elementos do array**, retornando um **array de bools** com o resultado de cada uma das operações lógicas:"
      ]
    },
    {
      "cell_type": "markdown",
      "metadata": {
        "id": "udr_e7DrZosn"
      },
      "source": [
        "Quais elementos do array são menores que um dado valor?"
      ]
    },
    {
      "cell_type": "code",
      "execution_count": null,
      "metadata": {
        "colab": {
          "base_uri": "https://localhost:8080/"
        },
        "id": "Nh0xjrjKZoso",
        "outputId": "cbff6aff-f7b2-4a7b-a331-32cae5413cef"
      },
      "outputs": [
        {
          "data": {
            "text/plain": [
              "array([ True,  True,  True, False, False, False])"
            ]
          },
          "execution_count": 66,
          "metadata": {},
          "output_type": "execute_result"
        }
      ],
      "source": [
        "arr = np.array([15, 10, -5, 50, 60, 25])\n",
        "\n",
        "arr < 20"
      ]
    },
    {
      "cell_type": "code",
      "execution_count": null,
      "metadata": {
        "colab": {
          "base_uri": "https://localhost:8080/"
        },
        "id": "_wgjWEGko141",
        "outputId": "df015e92-94ae-477e-e951-1a8ec9716d86"
      },
      "outputs": [
        {
          "data": {
            "text/plain": [
              "array([False, False, False,  True,  True,  True])"
            ]
          },
          "execution_count": 67,
          "metadata": {},
          "output_type": "execute_result"
        }
      ],
      "source": [
        "~(arr < 20)"
      ]
    },
    {
      "cell_type": "markdown",
      "metadata": {
        "id": "dEOkFfD3Zosp"
      },
      "source": [
        "Quantos elementos são maiores que um dado valor?"
      ]
    },
    {
      "cell_type": "code",
      "execution_count": null,
      "metadata": {
        "colab": {
          "base_uri": "https://localhost:8080/"
        },
        "id": "anvCMzDGZosp",
        "outputId": "cf472bc7-fc51-44e5-bbc2-6c41ec33b019"
      },
      "outputs": [
        {
          "data": {
            "text/plain": [
              "3"
            ]
          },
          "execution_count": 68,
          "metadata": {},
          "output_type": "execute_result"
        }
      ],
      "source": [
        "(arr < 20).sum()"
      ]
    },
    {
      "cell_type": "markdown",
      "metadata": {
        "id": "6ASTYP6GZosq"
      },
      "source": [
        "Uma vez criado o filtro, é possível **utilizá-lo como indexador do array**, para selecionar **apenas os elementos com indice correspondente a True no filtro**"
      ]
    },
    {
      "cell_type": "code",
      "execution_count": null,
      "metadata": {
        "colab": {
          "base_uri": "https://localhost:8080/"
        },
        "id": "23q6iS2apPcP",
        "outputId": "df729ca4-1c39-414e-d372-783026987ba1"
      },
      "outputs": [
        {
          "data": {
            "text/plain": [
              "array([15, 10, -5])"
            ]
          },
          "execution_count": 69,
          "metadata": {},
          "output_type": "execute_result"
        }
      ],
      "source": [
        "arr[(arr < 20)]"
      ]
    },
    {
      "cell_type": "code",
      "execution_count": null,
      "metadata": {
        "colab": {
          "base_uri": "https://localhost:8080/"
        },
        "id": "-n4TNfTSZosr",
        "outputId": "d3d426ca-f060-4346-c0d3-f31c8f5004b7"
      },
      "outputs": [
        {
          "data": {
            "text/plain": [
              "array([50, 60, 25])"
            ]
          },
          "execution_count": 70,
          "metadata": {},
          "output_type": "execute_result"
        }
      ],
      "source": [
        "arr[~(arr < 20)]"
      ]
    },
    {
      "cell_type": "markdown",
      "metadata": {
        "id": "LSBBjrt0Zoss"
      },
      "source": [
        "Também é possível aplicar **filtros compostos**!\n",
        "\n",
        "Pra fazer isso, nós fazems uma **composição lógica** entre os filtros (análogo ao \"and\" e ao \"or\")\n",
        "\n",
        "No caso de arrays, usamos:\n",
        "\n",
        "- \"&\" para \"and\"\n",
        "- \"|\" para \"or\"\n",
        "- \"~\" para \"not\""
      ]
    },
    {
      "cell_type": "code",
      "execution_count": null,
      "metadata": {
        "colab": {
          "base_uri": "https://localhost:8080/"
        },
        "id": "-alTIQ6DpcAT",
        "outputId": "e1ddc6cd-e818-4de5-a885-69cc477fee4f"
      },
      "outputs": [
        {
          "name": "stdout",
          "output_type": "stream",
          "text": [
            "[15 10 -5 50 60 25]\n"
          ]
        }
      ],
      "source": [
        "print(arr)"
      ]
    },
    {
      "cell_type": "code",
      "execution_count": null,
      "metadata": {
        "colab": {
          "base_uri": "https://localhost:8080/"
        },
        "id": "JIISYckcZost",
        "outputId": "a038f980-cea4-4b14-e7de-5d6942b018f2"
      },
      "outputs": [
        {
          "data": {
            "text/plain": [
              "array([15, 10, -5])"
            ]
          },
          "execution_count": 72,
          "metadata": {},
          "output_type": "execute_result"
        }
      ],
      "source": [
        "arr[(arr < 20)]"
      ]
    },
    {
      "cell_type": "code",
      "execution_count": null,
      "metadata": {
        "colab": {
          "base_uri": "https://localhost:8080/"
        },
        "id": "tCrPHxJWph6e",
        "outputId": "9b9c2aed-7b3c-49ef-b453-b8df0f858542"
      },
      "outputs": [
        {
          "data": {
            "text/plain": [
              "array([10, 50, 60])"
            ]
          },
          "execution_count": 73,
          "metadata": {},
          "output_type": "execute_result"
        }
      ],
      "source": [
        "arr[(arr % 2 == 0)]"
      ]
    },
    {
      "cell_type": "code",
      "execution_count": null,
      "metadata": {
        "colab": {
          "base_uri": "https://localhost:8080/"
        },
        "id": "RGjCSaZdppJM",
        "outputId": "ff0c49af-f7e7-43d4-80e2-e280436d2bf1"
      },
      "outputs": [
        {
          "data": {
            "text/plain": [
              "array([10])"
            ]
          },
          "execution_count": 74,
          "metadata": {},
          "output_type": "execute_result"
        }
      ],
      "source": [
        "arr[(arr < 20) & (arr % 2 == 0)]"
      ]
    },
    {
      "cell_type": "markdown",
      "metadata": {
        "id": "khjqCup8Zost"
      },
      "source": [
        "[np.where](https://numpy.org/doc/stable/reference/generated/numpy.where.html)"
      ]
    },
    {
      "cell_type": "code",
      "execution_count": null,
      "metadata": {
        "colab": {
          "base_uri": "https://localhost:8080/"
        },
        "id": "az0Ba_glqM49",
        "outputId": "ce522a04-0c4f-4a94-dc17-c6d433c56242"
      },
      "outputs": [
        {
          "data": {
            "text/plain": [
              "array([15, 10, -5, 50, 60, 25])"
            ]
          },
          "execution_count": 75,
          "metadata": {},
          "output_type": "execute_result"
        }
      ],
      "source": [
        "arr"
      ]
    },
    {
      "cell_type": "code",
      "execution_count": null,
      "metadata": {
        "colab": {
          "base_uri": "https://localhost:8080/"
        },
        "id": "DE0yP951qc7U",
        "outputId": "86beb2ce-379c-465c-a7ba-2a8c17006f55"
      },
      "outputs": [
        {
          "data": {
            "text/plain": [
              "array([False,  True, False,  True,  True, False])"
            ]
          },
          "execution_count": 76,
          "metadata": {},
          "output_type": "execute_result"
        }
      ],
      "source": [
        "arr % 2 == 0"
      ]
    },
    {
      "cell_type": "code",
      "execution_count": null,
      "metadata": {
        "colab": {
          "base_uri": "https://localhost:8080/"
        },
        "id": "XZYookUFZosu",
        "outputId": "66de9a7e-9d0c-4784-fa13-8001351454ec"
      },
      "outputs": [
        {
          "data": {
            "text/plain": [
              "array([225,  10,  25,  50,  60, 625])"
            ]
          },
          "execution_count": 77,
          "metadata": {},
          "output_type": "execute_result"
        }
      ],
      "source": [
        "np.where(arr % 2 == 0, arr, arr**2)"
      ]
    },
    {
      "cell_type": "code",
      "execution_count": null,
      "metadata": {
        "colab": {
          "base_uri": "https://localhost:8080/"
        },
        "id": "EJzwkiC4qhZ_",
        "outputId": "39f1b390-055d-4693-9230-3622530706c1"
      },
      "outputs": [
        {
          "data": {
            "text/plain": [
              "array([  15,  100,   25, 2500,   60,   25])"
            ]
          },
          "execution_count": 78,
          "metadata": {},
          "output_type": "execute_result"
        }
      ],
      "source": [
        "np.where(np.array([1, 0, 0, 0, 1, 1]), arr, arr**2)"
      ]
    },
    {
      "cell_type": "code",
      "execution_count": null,
      "metadata": {
        "colab": {
          "base_uri": "https://localhost:8080/"
        },
        "id": "AeQQ8GoNqT7C",
        "outputId": "b6855e11-d097-401a-bdc3-5abde860a243"
      },
      "outputs": [
        {
          "data": {
            "text/plain": [
              "array([nan, inf, nan, inf, inf, nan])"
            ]
          },
          "execution_count": 79,
          "metadata": {},
          "output_type": "execute_result"
        }
      ],
      "source": [
        "np.where(arr % 2 == 0, np.inf, np.nan)"
      ]
    },
    {
      "cell_type": "code",
      "execution_count": null,
      "metadata": {
        "colab": {
          "base_uri": "https://localhost:8080/"
        },
        "id": "u62rxZg4rdhg",
        "outputId": "bf2625ce-6661-4712-ddb9-21a521e7c449"
      },
      "outputs": [
        {
          "data": {
            "text/plain": [
              "array([nan, 10., nan, 50., 60., nan])"
            ]
          },
          "execution_count": 80,
          "metadata": {},
          "output_type": "execute_result"
        }
      ],
      "source": [
        "np.where(arr % 2 == 0, arr, np.nan)"
      ]
    },
    {
      "attachments": {},
      "cell_type": "markdown",
      "metadata": {
        "id": "IHmHND4_Zosu"
      },
      "source": [
        "## Matrizes\n",
        "\n",
        "Costumamos nos referir às **matrizes** como arrays multidimensionais (i.e., mais de uma dimensão).\n",
        "\n",
        "<img src = \"https://numpy.org/devdocs/_images/np_create_matrix.png\"/>"
      ]
    },
    {
      "cell_type": "code",
      "execution_count": null,
      "metadata": {
        "colab": {
          "base_uri": "https://localhost:8080/"
        },
        "id": "RSadW8O0Zosv",
        "outputId": "2c078a57-a9f5-41d1-fc1a-f32e33407ab9"
      },
      "outputs": [
        {
          "data": {
            "text/plain": [
              "array([[1, 2],\n",
              "       [3, 4],\n",
              "       [5, 6]])"
            ]
          },
          "execution_count": 81,
          "metadata": {},
          "output_type": "execute_result"
        }
      ],
      "source": [
        "data = np.array([[1,2],[3,4],[5,6]])\n",
        "data"
      ]
    },
    {
      "cell_type": "markdown",
      "metadata": {
        "id": "Vahenv8hZosw"
      },
      "source": [
        "Vamos repetir as operações que aprendemos para descrever um array!"
      ]
    },
    {
      "cell_type": "code",
      "execution_count": null,
      "metadata": {
        "colab": {
          "base_uri": "https://localhost:8080/"
        },
        "id": "88JHXA50Zosx",
        "outputId": "348c41c6-2cfd-49e5-d880-96021711908d"
      },
      "outputs": [
        {
          "data": {
            "text/plain": [
              "(3, 2)"
            ]
          },
          "execution_count": 82,
          "metadata": {},
          "output_type": "execute_result"
        }
      ],
      "source": [
        "data.shape"
      ]
    },
    {
      "cell_type": "code",
      "execution_count": null,
      "metadata": {
        "colab": {
          "base_uri": "https://localhost:8080/"
        },
        "id": "OmF6D6mA1JWx",
        "outputId": "9232a923-9adb-4df6-fde5-c37d0ec4dbd9"
      },
      "outputs": [
        {
          "data": {
            "text/plain": [
              "2"
            ]
          },
          "execution_count": 83,
          "metadata": {},
          "output_type": "execute_result"
        }
      ],
      "source": [
        "data.ndim"
      ]
    },
    {
      "cell_type": "code",
      "execution_count": null,
      "metadata": {
        "colab": {
          "base_uri": "https://localhost:8080/"
        },
        "id": "4S0yd-Ti1Mul",
        "outputId": "11663c0a-5cec-4a69-faaf-997b1ef2ee68"
      },
      "outputs": [
        {
          "data": {
            "text/plain": [
              "dtype('int32')"
            ]
          },
          "execution_count": 84,
          "metadata": {},
          "output_type": "execute_result"
        }
      ],
      "source": [
        "data.dtype"
      ]
    },
    {
      "cell_type": "code",
      "execution_count": null,
      "metadata": {
        "colab": {
          "base_uri": "https://localhost:8080/"
        },
        "id": "uxi5O94n1PkF",
        "outputId": "078c5720-464e-4ea0-9cfe-8e558031a0bb"
      },
      "outputs": [
        {
          "data": {
            "text/plain": [
              "6"
            ]
          },
          "execution_count": 85,
          "metadata": {},
          "output_type": "execute_result"
        }
      ],
      "source": [
        "data.size"
      ]
    },
    {
      "cell_type": "markdown",
      "metadata": {
        "id": "sXUh5DdkZosx"
      },
      "source": [
        "Vamos aprender um função nova para mudar o formato da matriz"
      ]
    },
    {
      "cell_type": "markdown",
      "metadata": {
        "id": "mkVoXyDHZosx"
      },
      "source": [
        "[numpy.reshape](https://numpy.org/doc/stable/reference/generated/numpy.reshape.html)\n",
        "\n",
        "Em algumas situações, pode ser útil **reformatar** nosso conjunto de dados. Para isso, utilizamos a função *.reshape()*.\n",
        "\n",
        "**Atenção:** ao utilizar o reshape, o número de elementos total nunca pode ser alterado!\n",
        "\n",
        "<img src = \"https://numpy.org/devdocs/_images/np_reshape.png\" />"
      ]
    },
    {
      "cell_type": "code",
      "execution_count": null,
      "metadata": {
        "colab": {
          "base_uri": "https://localhost:8080/"
        },
        "id": "3S_ErifN2hyk",
        "outputId": "21938ba3-0380-4e4b-c156-e3648475e80c"
      },
      "outputs": [
        {
          "name": "stdout",
          "output_type": "stream",
          "text": [
            "[1 2 3 4]\n",
            "[[1 2]\n",
            " [3 4]]\n"
          ]
        }
      ],
      "source": [
        "arr = np.array([1, 2, 3, 4])\n",
        "print(arr)\n",
        "arr2 = arr.reshape((2,2))\n",
        "print(arr2)"
      ]
    },
    {
      "cell_type": "markdown",
      "metadata": {
        "id": "4DAlW3ffZosy"
      },
      "source": [
        "#### Indexação de matrizes\n",
        "\n",
        "<img src = \"https://numpy.org/devdocs/_images/np_matrix_indexing.png\" />"
      ]
    },
    {
      "cell_type": "code",
      "execution_count": null,
      "metadata": {
        "colab": {
          "base_uri": "https://localhost:8080/"
        },
        "id": "gEMaANoZ273Z",
        "outputId": "c418d3c4-fc69-4b54-8c99-9d3a45ce1394"
      },
      "outputs": [
        {
          "data": {
            "text/plain": [
              "4"
            ]
          },
          "execution_count": 87,
          "metadata": {},
          "output_type": "execute_result"
        }
      ],
      "source": [
        "# ordem: linha, coluna\n",
        "arr2[1, 1]"
      ]
    },
    {
      "cell_type": "code",
      "execution_count": null,
      "metadata": {
        "colab": {
          "base_uri": "https://localhost:8080/"
        },
        "id": "WdOG4QgzZosz",
        "outputId": "97a75930-cba9-4937-fa45-49ace0a06075"
      },
      "outputs": [
        {
          "data": {
            "text/plain": [
              "4"
            ]
          },
          "execution_count": 88,
          "metadata": {},
          "output_type": "execute_result"
        }
      ],
      "source": [
        "#Alternativamente, podemos indexar o mesmo elemento escrevendo:\n",
        "\n",
        "arr2[1][1]"
      ]
    },
    {
      "cell_type": "code",
      "execution_count": null,
      "metadata": {
        "colab": {
          "base_uri": "https://localhost:8080/"
        },
        "id": "3DzLG61w3NYC",
        "outputId": "0fbb2885-15ce-4819-8213-9f26e29769ac"
      },
      "outputs": [
        {
          "data": {
            "text/plain": [
              "array([[1, 2],\n",
              "       [3, 4],\n",
              "       [5, 6]])"
            ]
          },
          "execution_count": 89,
          "metadata": {},
          "output_type": "execute_result"
        }
      ],
      "source": [
        "data"
      ]
    },
    {
      "cell_type": "code",
      "execution_count": null,
      "metadata": {
        "colab": {
          "base_uri": "https://localhost:8080/"
        },
        "id": "1K14VQHp3GHM",
        "outputId": "c09f086a-bdf4-4dcc-b183-b53dc1234899"
      },
      "outputs": [
        {
          "data": {
            "text/plain": [
              "array([[1, 2],\n",
              "       [3, 4]])"
            ]
          },
          "execution_count": 90,
          "metadata": {},
          "output_type": "execute_result"
        }
      ],
      "source": [
        "data[:2, 0:2]"
      ]
    },
    {
      "cell_type": "markdown",
      "metadata": {
        "id": "WKApACZBZos0"
      },
      "source": [
        "#### Agregações"
      ]
    },
    {
      "cell_type": "code",
      "execution_count": null,
      "metadata": {
        "colab": {
          "base_uri": "https://localhost:8080/"
        },
        "id": "XcKpV3PPZos0",
        "outputId": "4ed48789-ea0b-4b02-8786-5e89c0fef0d9"
      },
      "outputs": [
        {
          "data": {
            "text/plain": [
              "array([[1, 2],\n",
              "       [5, 3],\n",
              "       [4, 6]])"
            ]
          },
          "execution_count": 91,
          "metadata": {},
          "output_type": "execute_result"
        }
      ],
      "source": [
        "data = np.array([[1,2],[5,3],[4,6]])\n",
        "data"
      ]
    },
    {
      "cell_type": "markdown",
      "metadata": {
        "id": "3eZT7mgeZos1"
      },
      "source": [
        "\n",
        "\n",
        "<img src = \"https://numpy.org/devdocs/_images/np_matrix_aggregation.png\" />"
      ]
    },
    {
      "cell_type": "code",
      "execution_count": null,
      "metadata": {},
      "outputs": [
        {
          "data": {
            "text/plain": [
              "6"
            ]
          },
          "execution_count": 92,
          "metadata": {},
          "output_type": "execute_result"
        }
      ],
      "source": [
        "data.max()"
      ]
    },
    {
      "cell_type": "code",
      "execution_count": null,
      "metadata": {},
      "outputs": [
        {
          "data": {
            "text/plain": [
              "5"
            ]
          },
          "execution_count": 93,
          "metadata": {},
          "output_type": "execute_result"
        }
      ],
      "source": [
        "data.argmax()"
      ]
    },
    {
      "cell_type": "code",
      "execution_count": null,
      "metadata": {},
      "outputs": [
        {
          "data": {
            "text/plain": [
              "1"
            ]
          },
          "execution_count": 94,
          "metadata": {},
          "output_type": "execute_result"
        }
      ],
      "source": [
        "data.min()"
      ]
    },
    {
      "cell_type": "markdown",
      "metadata": {
        "id": "63gVZpADZos2"
      },
      "source": [
        "Também podemos ter situações em que gostaríamos de **agregar por linhas e/ou colunas**, o que também é possível, especificando o parâmetro *axis*, conforme abaixo.\n",
        "\n",
        "<img src = \"https://numpy.org/devdocs/_images/np_matrix_aggregation_row.png\" />"
      ]
    },
    {
      "cell_type": "markdown",
      "metadata": {
        "id": "fk54bidiZos3"
      },
      "source": [
        "\"axis = 0\" opera na direção das colunas, avaliando entre linhas"
      ]
    },
    {
      "cell_type": "code",
      "execution_count": null,
      "metadata": {
        "colab": {
          "base_uri": "https://localhost:8080/"
        },
        "id": "i5VfLWP4Zos8",
        "outputId": "f47fd2c7-12c8-46f9-86fb-8dff0491b885"
      },
      "outputs": [
        {
          "data": {
            "text/plain": [
              "array([5, 6])"
            ]
          },
          "execution_count": 95,
          "metadata": {},
          "output_type": "execute_result"
        }
      ],
      "source": [
        "data.max(axis = 0)"
      ]
    },
    {
      "cell_type": "markdown",
      "metadata": {
        "id": "jSDdP3WDZos9"
      },
      "source": [
        "\"axis = 1\" opera na direação das linhas, avaliando entre colunas"
      ]
    },
    {
      "cell_type": "code",
      "execution_count": null,
      "metadata": {
        "colab": {
          "base_uri": "https://localhost:8080/"
        },
        "id": "xqfesZXUZos-",
        "outputId": "f5b705a9-424c-450d-a072-f801c87db6c3"
      },
      "outputs": [
        {
          "data": {
            "text/plain": [
              "array([2, 5, 6])"
            ]
          },
          "execution_count": 96,
          "metadata": {},
          "output_type": "execute_result"
        }
      ],
      "source": [
        "data.max(axis = 1)"
      ]
    },
    {
      "cell_type": "markdown",
      "metadata": {
        "id": "oaeRfTmbZos-"
      },
      "source": [
        "#### Operações com matrizes"
      ]
    },
    {
      "cell_type": "markdown",
      "metadata": {
        "id": "KrhF9q9-Zos_"
      },
      "source": [
        "Operações Elemetares (+, -, *, /)\n",
        "\n",
        "<img src=\"https://numpy.org/devdocs/_images/np_matrix_arithmetic.png\" />\n",
        "\n",
        "Diferentemente com arrays unidimensionais, conseguimos operar com matriz de tamanhos diferentes, **desde que sejam essencialmente um vetor-linha ou um vetor-coluna**.\n",
        "\n",
        "<img src = \"https://numpy.org/devdocs/_images/np_matrix_broadcasting.png\" />"
      ]
    },
    {
      "cell_type": "code",
      "execution_count": null,
      "metadata": {
        "id": "8Zp9P7xxZos_"
      },
      "outputs": [],
      "source": [
        "ones_row = np.ones(2)"
      ]
    },
    {
      "cell_type": "code",
      "execution_count": null,
      "metadata": {},
      "outputs": [
        {
          "data": {
            "text/plain": [
              "array([[2., 3.],\n",
              "       [6., 4.],\n",
              "       [5., 7.]])"
            ]
          },
          "execution_count": 98,
          "metadata": {},
          "output_type": "execute_result"
        }
      ],
      "source": [
        "data + ones_row"
      ]
    },
    {
      "cell_type": "code",
      "execution_count": null,
      "metadata": {},
      "outputs": [
        {
          "data": {
            "text/plain": [
              "array([[ 2,  4],\n",
              "       [10,  6],\n",
              "       [ 8, 12]])"
            ]
          },
          "execution_count": 99,
          "metadata": {},
          "output_type": "execute_result"
        }
      ],
      "source": [
        "data * 2"
      ]
    },
    {
      "cell_type": "code",
      "execution_count": null,
      "metadata": {},
      "outputs": [
        {
          "data": {
            "text/plain": [
              "array([[0.5, 1. ],\n",
              "       [2.5, 1.5],\n",
              "       [2. , 3. ]])"
            ]
          },
          "execution_count": 100,
          "metadata": {},
          "output_type": "execute_result"
        }
      ],
      "source": [
        "data / 2"
      ]
    },
    {
      "cell_type": "code",
      "execution_count": null,
      "metadata": {},
      "outputs": [
        {
          "data": {
            "text/plain": [
              "array([[ 2.,  6.],\n",
              "       [30., 12.],\n",
              "       [20., 42.]])"
            ]
          },
          "execution_count": 101,
          "metadata": {},
          "output_type": "execute_result"
        }
      ],
      "source": [
        "data * (data + ones_row)"
      ]
    },
    {
      "cell_type": "markdown",
      "metadata": {
        "id": "ENOo9KzXZotA"
      },
      "source": [
        "Multiplicação de Matrizes \"tradicional\"\n",
        "\n",
        "[numpy.dot](https://numpy.org/doc/stable/reference/generated/numpy.dot.html)"
      ]
    },
    {
      "cell_type": "code",
      "execution_count": null,
      "metadata": {
        "colab": {
          "base_uri": "https://localhost:8080/"
        },
        "id": "DYfJBkyNZotB",
        "outputId": "90ed385f-873a-4ecf-d6af-440d5491ec7f"
      },
      "outputs": [
        {
          "name": "stdout",
          "output_type": "stream",
          "text": [
            "[[2.25859502]\n",
            " [0.48359147]]\n",
            "[[ 3.22577796]\n",
            " [12.74374952]\n",
            " [11.9359289 ]]\n"
          ]
        }
      ],
      "source": [
        "data2 = np.random.normal(1, 3, 2).reshape((2,1))\n",
        "print(data2)\n",
        "\n",
        "print(data.dot(data2))"
      ]
    },
    {
      "cell_type": "markdown",
      "metadata": {
        "id": "rMO_wSS4ZotB"
      },
      "source": [
        "Transposição de Matrizes\n",
        "\n",
        "Transpor a matriz equivale a \"trocar\" as linhas pelas colunas.\n",
        "\n",
        "[numpy.transpose](https://numpy.org/doc/stable/reference/generated/numpy.transpose.html)\n",
        "\n",
        "[numpy.ndarray.T](https://numpy.org/doc/stable/reference/generated/numpy.ndarray.T.html)\n",
        "\n",
        "<img src = \"https://numpy.org/devdocs/_images/np_transposing_reshaping.png\" />"
      ]
    },
    {
      "cell_type": "code",
      "execution_count": null,
      "metadata": {
        "colab": {
          "base_uri": "https://localhost:8080/"
        },
        "id": "MLDjjVfgZotC",
        "outputId": "1dfe3f48-9983-406d-98bd-603a15c5def9"
      },
      "outputs": [
        {
          "data": {
            "text/plain": [
              "array([[1, 2],\n",
              "       [5, 3],\n",
              "       [4, 6]])"
            ]
          },
          "execution_count": 103,
          "metadata": {},
          "output_type": "execute_result"
        }
      ],
      "source": [
        "data"
      ]
    },
    {
      "cell_type": "code",
      "execution_count": null,
      "metadata": {
        "colab": {
          "base_uri": "https://localhost:8080/"
        },
        "id": "LbNUjhgC5n7f",
        "outputId": "85df4ec3-90e5-4a2c-f615-a182340fcc5d"
      },
      "outputs": [
        {
          "data": {
            "text/plain": [
              "array([[1, 5, 4],\n",
              "       [2, 3, 6]])"
            ]
          },
          "execution_count": 104,
          "metadata": {},
          "output_type": "execute_result"
        }
      ],
      "source": [
        "data.T"
      ]
    },
    {
      "cell_type": "markdown",
      "metadata": {
        "id": "7PmJPXq8ZotC"
      },
      "source": [
        "#### Filtrando Dados\n",
        "\n",
        "Seguimos a mesma lógica de filtros em arrays unidimensionais, com a particularidade de que estamos lidando, agora, com mais de uma dimensão - e podemos levar isso em consideração."
      ]
    },
    {
      "cell_type": "code",
      "execution_count": null,
      "metadata": {
        "colab": {
          "base_uri": "https://localhost:8080/"
        },
        "id": "Az_g4R666U4S",
        "outputId": "a4fa0630-e272-40cf-bbf2-48d077dd4e64"
      },
      "outputs": [
        {
          "data": {
            "text/plain": [
              "array([1, 2, 3])"
            ]
          },
          "execution_count": 105,
          "metadata": {},
          "output_type": "execute_result"
        }
      ],
      "source": [
        "data[data < 4]"
      ]
    },
    {
      "cell_type": "code",
      "execution_count": null,
      "metadata": {
        "colab": {
          "base_uri": "https://localhost:8080/"
        },
        "id": "u3QVXk9-ZotD",
        "outputId": "60e57e2c-dea0-44f3-c257-a8d4eb3707db"
      },
      "outputs": [
        {
          "data": {
            "text/plain": [
              "array([[ 1.,  2.],\n",
              "       [nan,  3.],\n",
              "       [nan, nan]])"
            ]
          },
          "execution_count": 106,
          "metadata": {},
          "output_type": "execute_result"
        }
      ],
      "source": [
        "np.where(data < 4, data, np.nan)"
      ]
    },
    {
      "cell_type": "code",
      "execution_count": null,
      "metadata": {
        "colab": {
          "base_uri": "https://localhost:8080/"
        },
        "id": "B9p05TNN6gJq",
        "outputId": "76bab0ce-fc03-49a3-f1af-f0f9e878542a"
      },
      "outputs": [
        {
          "data": {
            "text/plain": [
              "array([['1', '2'],\n",
              "       ['0', '3'],\n",
              "       ['0', '0']], dtype='<U11')"
            ]
          },
          "execution_count": 107,
          "metadata": {},
          "output_type": "execute_result"
        }
      ],
      "source": [
        "np.where(data < 4, data, '0')"
      ]
    },
    {
      "cell_type": "code",
      "execution_count": null,
      "metadata": {
        "colab": {
          "base_uri": "https://localhost:8080/"
        },
        "id": "mOWcjk1Y6pxQ",
        "outputId": "b1678ab9-0475-40c5-e630-58eea4631d9c"
      },
      "outputs": [
        {
          "name": "stdout",
          "output_type": "stream",
          "text": [
            "[['1' '2']\n",
            " ['0' '3']\n",
            " ['0' '0']]\n"
          ]
        }
      ],
      "source": [
        "arr2 = np.where(data < 4, data, '0')\n",
        "print(arr2)"
      ]
    }
  ],
  "metadata": {
    "colab": {
      "include_colab_link": true,
      "provenance": []
    },
    "kernelspec": {
      "display_name": "base",
      "language": "python",
      "name": "python3"
    },
    "language_info": {
      "codemirror_mode": {
        "name": "ipython",
        "version": 3
      },
      "file_extension": ".py",
      "mimetype": "text/x-python",
      "name": "python",
      "nbconvert_exporter": "python",
      "pygments_lexer": "ipython3",
      "version": "3.9.16"
    },
    "orig_nbformat": 4,
    "vscode": {
      "interpreter": {
        "hash": "83e92b1f3f21fdb4659571439a9645cff8fd2717e8d35e987f7eae31f7f6dd34"
      }
    }
  },
  "nbformat": 4,
  "nbformat_minor": 0
}
