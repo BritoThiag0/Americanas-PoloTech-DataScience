{
 "cells": [
  {
   "attachments": {},
   "cell_type": "markdown",
   "metadata": {},
   "source": [
    "## Lista de Exercícios 3\n",
    "### Aula 03 - Looping While e For"
   ]
  },
  {
   "attachments": {},
   "cell_type": "markdown",
   "metadata": {},
   "source": [
    "#### __1)__ Desenvolva um código que receba do usuário um número inteiro e calcule o fatorial deste número. A fórmula do fatorial é definida como:\n",
    "\n",
    "<br>\n",
    "\n",
    "$$ n! = n * (n - 1) * (n - 2) * ... * 2 * 1$$\n",
    "\n",
    "<br>\n",
    "\n",
    "Por exemplo $4!$ é igual a $4*3*2*1 = 24$."
   ]
  },
  {
   "cell_type": "markdown",
   "metadata": {},
   "source": [
    "__1.1)__ Desenvolva o código na versão _while_ (1 ponto)"
   ]
  },
  {
   "cell_type": "code",
   "execution_count": null,
   "metadata": {},
   "outputs": [
    {
     "name": "stdout",
     "output_type": "stream",
     "text": [
      "O fatorial de 0 é igual a 1.\n"
     ]
    }
   ],
   "source": [
    "numero = int(input(\"Informe um número: \"))\n",
    "fatorial = 1\n",
    "\n",
    "if (numero == 0):\n",
    "    print(f'O fatorial de {numero} é igual a {fatorial}.')\n",
    "elif (numero > 0):\n",
    "    fatorando = numero\n",
    "    while (fatorando != 0):\n",
    "        fatorial *= fatorando\n",
    "        fatorando -= 1\n",
    "    print(f'O fatorial de {numero} é igual a {fatorial}.')\n",
    "else:\n",
    "    print(f'Fatorial só vale para números inteiros positivos! Tente novamente com um valor válido')\n"
   ]
  },
  {
   "cell_type": "markdown",
   "metadata": {},
   "source": [
    "__1.2)__ Desenvolva o código na versão _for_ (1 ponto)"
   ]
  },
  {
   "cell_type": "code",
   "execution_count": null,
   "metadata": {},
   "outputs": [
    {
     "name": "stdout",
     "output_type": "stream",
     "text": [
      "Fatorial só vale para números inteiros positivos! Tente novamente com um valor válido\n"
     ]
    }
   ],
   "source": [
    "numero = int(input(\"Informe um número: \"))\n",
    "fatorial = 1\n",
    "\n",
    "if (numero == 0):\n",
    "    print(f'O fatorial de {numero} é igual a {fatorial}.')\n",
    "elif (numero > 0):\n",
    "    for i in range(numero, 0, -1):\n",
    "        fatorial *= i\n",
    "    print(f'O fatorial de {numero} é igual a {fatorial}.')\n",
    "else:\n",
    "    print(f'Fatorial só vale para números inteiros positivos! Tente novamente com um valor válido')"
   ]
  },
  {
   "attachments": {},
   "cell_type": "markdown",
   "metadata": {},
   "source": [
    "#### __2)__ Desenvolva um código que onde pede para o usuário que digite um número inteiro entre 1 e 200, e o código deve printar todos os __números primos__ entre 2 e o número digitado. Número primo é um que seja divisível apenas por 1 ou ele mesmo. Exemplo de números primos : 2, 3, 5, 7, 11, 13, 17 e assim por diante."
   ]
  },
  {
   "cell_type": "markdown",
   "metadata": {},
   "source": [
    "__2.1)__ Desenvolva o código na versão _while_ (1 ponto)"
   ]
  },
  {
   "cell_type": "code",
   "execution_count": null,
   "metadata": {},
   "outputs": [
    {
     "name": "stdout",
     "output_type": "stream",
     "text": [
      "Os números primos entre 2 e 7 são: [2, 3, 5, 7]\n"
     ]
    }
   ],
   "source": [
    "numero = int(input(\"Informe um número entre 1 e 200: \"))\n",
    "varWhile1 = 2\n",
    "varWhile2 = 2\n",
    "\n",
    "primos = []\n",
    "\n",
    "while (varWhile1 <= numero):\n",
    "    divisores = []\n",
    "    varWhile2 = 2\n",
    "    while (varWhile2 <= varWhile1):\n",
    "        if (varWhile1 % varWhile2 == 0):\n",
    "            divisores.append(varWhile2)\n",
    "        varWhile2 += 1\n",
    "    if ((len(divisores) == 1)):\n",
    "        primos.append(varWhile1)\n",
    "    varWhile1 += 1\n",
    "\n",
    "print(f\"Os números primos entre 2 e {numero} são: {primos}\")\n"
   ]
  },
  {
   "cell_type": "markdown",
   "metadata": {},
   "source": [
    "__2.2)__ Desenvolva o código na versão _for_ (1 ponto)"
   ]
  },
  {
   "cell_type": "code",
   "execution_count": null,
   "metadata": {},
   "outputs": [
    {
     "name": "stdout",
     "output_type": "stream",
     "text": [
      "[2]\n",
      "[3]\n",
      "[2, 4]\n",
      "[5]\n",
      "Os números primos entre 2 e 5 são: [2, 3, 5]\n"
     ]
    }
   ],
   "source": [
    "numero = int(input(\"Informe um número entre 1 e 200: \"))\n",
    "\n",
    "primos = []\n",
    "\n",
    "for i in range(2, numero + 1):\n",
    "    divisores = []\n",
    "    for j in range(2, i + 1):\n",
    "        if (i % j == 0):\n",
    "            divisores.append(j)\n",
    "    if ((len(divisores) == 1)):\n",
    "        primos.append(i)\n",
    "\n",
    "print(f\"Os números primos entre 2 e {numero} são: {primos}\")\n"
   ]
  },
  {
   "attachments": {},
   "cell_type": "markdown",
   "metadata": {
    "id": "mfo_CQFQ7hdP"
   },
   "source": [
    "#### __3)__ (2 pontos) Bibliotecas ou módulos são arquivos contendo algumas funções e outros componentes de código já prontos para serem reutilizados. A linguagem Python já possui diversos módulos pré-instalados, e podemos utilizá-los através do comando import.\n",
    "\n",
    "Ao incluir a linha abaixo (preferencialmente no topo do programa) podemos acessar as funções do módulo random, que permitem lidar com números aleatórios:\n",
    "\n",
    "```python\n",
    "import random\n",
    "```\n",
    "\n",
    "Tendo importado esse módulo em nosso programa, é possível sortear números aleatórios através da função randint. No exemplo abaixo, um número aleatório entre 1 e 100 é salvo na variável \"sorteio\":\n",
    "\n",
    "```python\n",
    "sorteio = random.randint(1, 100)\n",
    "```\n",
    "\n",
    "Faça um programa que sorteia um número aleatório entre 1 e 100. Ele deve pedir para o usuário adivinhar o número até que ele acerte.\n",
    "\n",
    "Quando o usuário finalmente acertar, exiba a mensagem \"Você venceu!\" e pergunte se ele gostaria de jogar novamente. Caso ele digite \"sim\", sorteie um novo número e torne a pedir que ele adivinhe.\n",
    "\n",
    "Ideia de como estruturar o código:\n",
    "\n",
    "```python\n",
    "while jogar_de_novo == 'sim':\n",
    "  while tentativas < 10:\n",
    "    ...\n",
    "    ...\n",
    "    ...\n",
    "    if chute == sorteio:\n",
    "      break\n",
    "\n",
    "    jogar_de_novo = input('Jogar de novo? ')\n",
    "```"
   ]
  },
  {
   "cell_type": "code",
   "execution_count": null,
   "metadata": {},
   "outputs": [
    {
     "name": "stdout",
     "output_type": "stream",
     "text": [
      "Que pena, você errou :/\n",
      "Que pena, você errou :/\n",
      "Que pena, você errou :/\n"
     ]
    }
   ],
   "source": [
    "import random\n",
    "\n",
    "jogarDeNovo = 's'\n",
    "\n",
    "while jogarDeNovo == 's':\n",
    "    chute = int(input('Qual seu chute?'))\n",
    "\n",
    "    sorteio = random.randint(1, 100)\n",
    "\n",
    "    if chute == sorteio:\n",
    "        print(\"Parabéns! Você acertou!!!\")\n",
    "        break\n",
    "    else:\n",
    "        print(\"Que pena, você errou :/\")\n",
    "        jogarDeNovo = input('Jogar de novo? (s/n) ')"
   ]
  },
  {
   "attachments": {},
   "cell_type": "markdown",
   "metadata": {},
   "source": [
    "#### __4)__ Desenvolva um programa que recebe como _input_ do usuário dois números inteiros e o retorno do programa será o __mínimo multiplicador comum__ (MMC). Exemplo, o MMC entre 10 e 12, onde $ 10 = 2 * 5$ e $12 = 2 * 2 * 3$, o MMC vai ser o número oriundo da multiplicação entre $ 2 * 2 * 3 * 5 = 60$"
   ]
  },
  {
   "cell_type": "markdown",
   "metadata": {},
   "source": [
    "__4.1)__ Desenvolva o código na versão _while_ (1 ponto)"
   ]
  },
  {
   "cell_type": "code",
   "execution_count": null,
   "metadata": {},
   "outputs": [
    {
     "name": "stdout",
     "output_type": "stream",
     "text": [
      "O MMC entre 2 e 2 é 2.\n"
     ]
    }
   ],
   "source": [
    "num1 = int(input(\"Informe o 1º número: \"))\n",
    "num2 = int(input(\"Informe o 2º número: \"))\n",
    "\n",
    "if (num1 > num2):\n",
    "    maiorNum = num1\n",
    "else:\n",
    "    maiorNum = num2\n",
    "\n",
    "while True:\n",
    "    if (((maiorNum % num1) == 0) and ((maiorNum % num2) == 0)):\n",
    "        print(f\"O MMC entre {num1} e {num2} é {maiorNum}.\")\n",
    "        break\n",
    "    else:\n",
    "        maiorNum += 1"
   ]
  },
  {
   "cell_type": "markdown",
   "metadata": {},
   "source": [
    "__4.2)__ Desenvolva o código na versão _for_ (1 ponto)"
   ]
  },
  {
   "cell_type": "code",
   "execution_count": null,
   "metadata": {},
   "outputs": [
    {
     "name": "stdout",
     "output_type": "stream",
     "text": [
      "O MMC entre 10 e 12 é 60.\n"
     ]
    }
   ],
   "source": [
    "num1 = int(input(\"Informe o 1º número: \"))\n",
    "num2 = int(input(\"Informe o 2º número: \"))\n",
    "\n",
    "if (num1 > num2):\n",
    "    maiorNum = num1\n",
    "else:\n",
    "    maiorNum = num2\n",
    "\n",
    "for i in range(1000):\n",
    "    if (((maiorNum % num1) == 0) and ((maiorNum % num2) == 0)):\n",
    "        print(f\"O MMC entre {num1} e {num2} é {maiorNum}.\")\n",
    "        break\n",
    "    else:\n",
    "        maiorNum += 1"
   ]
  },
  {
   "attachments": {},
   "cell_type": "markdown",
   "metadata": {},
   "source": [
    "#### __5)__ (2 pontos) Desenvolva um código onde o usuário irá indicar um número inteiro $n$ e o seu código deve devolver o n-ésimo termo da sequência de Fibonacci. A sequência de Fibonacci é definida com o termo $a_1 = 1$ e $a_2 = 1$ e o termo seguinte é a soma dos dois anteriores, então por exemplo $a_3 = a_1 + a_2 = 2$."
   ]
  },
  {
   "cell_type": "code",
   "execution_count": null,
   "metadata": {},
   "outputs": [],
   "source": [
    "# Exemplo o usuário colocou o valor 7\n",
    "# sequencia de fibonacci = 1 1 2 3 5 8 13\n",
    "# devolver o valor 13 que é o sexto da sequência"
   ]
  },
  {
   "cell_type": "code",
   "execution_count": null,
   "metadata": {},
   "outputs": [
    {
     "name": "stdout",
     "output_type": "stream",
     "text": [
      "O 6º valor na sequência de Fibonacci é 13.\n"
     ]
    }
   ],
   "source": [
    "ordemFibonacci = int(input(\"Informe a posição que você deseja saber o valor: \"))\n",
    "fibonacci = [1, 1]\n",
    "\n",
    "for i in range(ordemFibonacci - 1):\n",
    "    fibonacci.append(fibonacci[-1] + fibonacci[-2])\n",
    "\n",
    "print(f\"O {ordemFibonacci}º valor na sequência de Fibonacci é {fibonacci[-1]}.\")"
   ]
  }
 ],
 "metadata": {
  "kernelspec": {
   "display_name": "Python 3",
   "language": "python",
   "name": "python3"
  },
  "language_info": {
   "name": "python",
   "version": "3.11.0 (main, Oct 24 2022, 18:26:48) [MSC v.1933 64 bit (AMD64)]"
  },
  "orig_nbformat": 4,
  "vscode": {
   "interpreter": {
    "hash": "c261aea317cc0286b3b3261fbba9abdec21eaa57589985bb7a274bf54d6cc0a7"
   }
  }
 },
 "nbformat": 4,
 "nbformat_minor": 2
}
