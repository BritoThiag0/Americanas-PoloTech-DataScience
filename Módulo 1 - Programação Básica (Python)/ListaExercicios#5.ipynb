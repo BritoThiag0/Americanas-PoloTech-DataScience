{
 "cells": [
  {
   "attachments": {},
   "cell_type": "markdown",
   "id": "9cae75f0",
   "metadata": {},
   "source": [
    "## Lista de Exercícios 5\n",
    "### Aula 06 - Revisão Exercícios e Dicionários"
   ]
  },
  {
   "attachments": {},
   "cell_type": "markdown",
   "id": "3f174b0a",
   "metadata": {},
   "source": [
    "#### __1)__ Faça um programa que receba um dicionario simples de um número associado a uma chave e retorne o dicionario inverso (onde era chave virá valor e vice-versa).\n",
    "\n",
    "Exemplos:"
   ]
  },
  {
   "cell_type": "code",
   "execution_count": null,
   "id": "3df4d01a",
   "metadata": {},
   "outputs": [],
   "source": [
    "# Exemplo 1\n",
    "# dict1 = {1: 3, 2: 5, 3: 7, 4: 0}\n",
    "\n",
    "# resultado = {3: [1], 5: [2], 7: [3], 0:[4]}\n",
    "\n",
    "\n",
    "# Exemplo 2\n",
    "# dict2 = {1: 2, 2: 0, 3: 0, 4: 2}\n",
    "\n",
    "# resultado = {0: [2, 3], 2: [1, 4]} "
   ]
  },
  {
   "cell_type": "code",
   "execution_count": 2,
   "metadata": {},
   "outputs": [
    {
     "data": {
      "text/plain": [
       "{3: [1], 5: [2], 7: [3], 0: [4]}"
      ]
     },
     "execution_count": 2,
     "metadata": {},
     "output_type": "execute_result"
    }
   ],
   "source": [
    "def inversaoDic(dicionario):\n",
    "    dic = dicionario\n",
    "    dicInvertido = {}\n",
    "    \n",
    "    for k, v in dic.items():\n",
    "        if v not in dicInvertido.keys():\n",
    "            dicInvertido[v] = [k]\n",
    "        else:\n",
    "            dicInvertido[v].append(k)\n",
    "\n",
    "    return dicInvertido\n",
    "\n",
    "dict1 = {1: 3, 2: 5, 3: 7, 4: 0}\n",
    "inversaoDic(dict1)"
   ]
  },
  {
   "attachments": {},
   "cell_type": "markdown",
   "id": "ee8eddb1",
   "metadata": {},
   "source": [
    "#### __2)__ Desenvolva uma função que retorne uma lista com todas as chaves de um dicionário que contém o mesmo valor. Por exemplo no dicionário a seguir:\n",
    "\n",
    "<br>\n",
    "\n",
    "```python\n",
    "{'a': 3, 'b': 1, 'c': 2, 'd': 3}\n",
    "```\n",
    "\n",
    "<br>\n",
    "\n",
    "A função deve retorna os valores ['a', 'd'] caso o valor procurado seja o 3. E caso não tenha o valor procurado deve-se retornar uma lista vazia."
   ]
  },
  {
   "cell_type": "code",
   "execution_count": 3,
   "id": "d74a3edf",
   "metadata": {},
   "outputs": [
    {
     "data": {
      "text/plain": [
       "['a', 'd']"
      ]
     },
     "execution_count": 3,
     "metadata": {},
     "output_type": "execute_result"
    }
   ],
   "source": [
    "def procurarValor(valor, dicionario):\n",
    "    dic = dicionario\n",
    "    valorProcurado = valor\n",
    "    dicInvertido = {}\n",
    "\n",
    "    for k, v in dic.items():\n",
    "        if v not in dicInvertido.keys():\n",
    "            dicInvertido[v] = [k]\n",
    "        else:\n",
    "            dicInvertido[v].append(k)\n",
    "\n",
    "    if valorProcurado in dicInvertido.keys():\n",
    "        chavesValProc = dicInvertido[valorProcurado]\n",
    "    else:\n",
    "        chavesValProc = []\n",
    "\n",
    "    return chavesValProc\n",
    "\n",
    "dict1 = {'a': 3, 'b': 1, 'c': 2, 'd': 3}\n",
    "procurarValor(3, dict1)"
   ]
  }
 ],
 "metadata": {
  "kernelspec": {
   "display_name": "Python 3",
   "language": "python",
   "name": "python3"
  },
  "language_info": {
   "codemirror_mode": {
    "name": "ipython",
    "version": 3
   },
   "file_extension": ".py",
   "mimetype": "text/x-python",
   "name": "python",
   "nbconvert_exporter": "python",
   "pygments_lexer": "ipython3",
   "version": "3.11.0 (main, Oct 24 2022, 18:26:48) [MSC v.1933 64 bit (AMD64)]"
  },
  "orig_nbformat": 4,
  "vscode": {
   "interpreter": {
    "hash": "c261aea317cc0286b3b3261fbba9abdec21eaa57589985bb7a274bf54d6cc0a7"
   }
  }
 },
 "nbformat": 4,
 "nbformat_minor": 2
}
