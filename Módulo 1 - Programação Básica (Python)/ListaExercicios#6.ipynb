{
 "cells": [
  {
   "attachments": {},
   "cell_type": "markdown",
   "metadata": {
    "id": "BTYmg-6tzUU6"
   },
   "source": [
    "## Lista de Exercícios 6\n",
    "### Aula 07 - _Strings_ e Gerenciamento de Arquivos"
   ]
  },
  {
   "cell_type": "markdown",
   "metadata": {
    "id": "ysJxw4yf0-ZB"
   },
   "source": [
    "__1)__ Faça um programa que lê uma string do teclado e a exibe invertida na tela.\n",
    "\n",
    "\n",
    "Exemplo: a string \"batata\" vira \"atatab\"."
   ]
  },
  {
   "cell_type": "code",
   "execution_count": null,
   "metadata": {
    "id": "NqbbLzU91N8K"
   },
   "outputs": [
    {
     "data": {
      "text/plain": [
       "'atataB'"
      ]
     },
     "metadata": {},
     "output_type": "display_data"
    }
   ],
   "source": [
    "palavra = input(\"Informe a palavra a ser invertida: \")\n",
    "palvraInvertida = palavra[::-1]\n",
    "palvraInvertida"
   ]
  },
  {
   "cell_type": "markdown",
   "metadata": {
    "id": "pWz2qyVb1OJP"
   },
   "source": [
    "__2)__ Faça um programa que pede para o usuário digitar 2 palavras. O seu programa deverá responder se elas são espelhadas uma da outra, ou seja, se ao inverter uma delas, temos a outra. \n",
    "\n",
    "Exemplo: as palavras \"roma\" e \"amor\" são espelhadas."
   ]
  },
  {
   "cell_type": "code",
   "execution_count": null,
   "metadata": {
    "id": "DVXd2_nd1oYu"
   },
   "outputs": [
    {
     "name": "stdout",
     "output_type": "stream",
     "text": [
      "As palavras rio e um NÃO são espelhadas.\n"
     ]
    }
   ],
   "source": [
    "palavra1 = input(\"Informe a 1ª palavra: \")\n",
    "palavra2 = input(\"Informe a 2ª palavra: \")\n",
    "\n",
    "if (palavra1 == palavra2[::-1]):\n",
    "    print(f\"As palavras {palavra1} e {palavra2} são espelhadas.\")\n",
    "else:\n",
    "    print(f\"As palavras {palavra1} e {palavra2} NÃO são espelhadas.\")"
   ]
  },
  {
   "cell_type": "markdown",
   "metadata": {
    "id": "NVyvRKFs1ooO"
   },
   "source": [
    "__3)__ Faça um programa que lê duas palavras do teclado e responde se elas são **anagramas** uma da outra, isto é, se podemos escrever uma delas apenas mudando a ordem das letras da outra.\n",
    "\n",
    "Exemplo: \"ator\" e \"rota\", \"rota\" e \"tora\", \"lama\" e \"mala\". "
   ]
  },
  {
   "cell_type": "code",
   "execution_count": null,
   "metadata": {
    "id": "36IV_E562A_V"
   },
   "outputs": [
    {
     "name": "stdout",
     "output_type": "stream",
     "text": [
      "As palavras rio e riu NÃO são anagramas.\n"
     ]
    }
   ],
   "source": [
    "palavra1 = input(\"Informe a 1ª palavra: \")\n",
    "palavra2 = input(\"Informe a 2ª palavra: \")\n",
    "\n",
    "ordenadaPalavra1 = sorted(palavra1)\n",
    "ordenadaPalavra2 = sorted(palavra2)\n",
    "\n",
    "if (ordenadaPalavra1 == ordenadaPalavra2):\n",
    "    print(f\"As palavras {palavra1} e {palavra2} são anagramas.\")\n",
    "else:\n",
    "    print(f\"As palavras {palavra1} e {palavra2} NÃO são anagramas.\")"
   ]
  },
  {
   "cell_type": "markdown",
   "metadata": {
    "id": "XLLRUYKJ2Dit"
   },
   "source": [
    "__4)__ **Cifra de César**\n",
    "\n",
    "A cifra de César é uma forma rudimentar de criptografia onde todas as letras são deslocadas uma quantidade pré-determinada de vezes no alfabeto. Por exemplo, a frase \"Abra a porta\" com 3 deslocamentos vira \"Deud d sruwd\". \n",
    "\n",
    "Caso os deslocamentos estourem o tamanho do alfabeto, eles \"dão a volta\": no caso anterior, com 3 deslocamentos, se alguma palavra tivesse a letra \"z\", ela se tornaria \"c\".\n",
    "\n",
    "Faça um programa que pergunta para o usuário uma frase para ser criptografada e a quantidade de deslocamentos desejada. Seu programa irá mostrar a mensagem cifrada na tela.\n",
    "\n"
   ]
  },
  {
   "cell_type": "code",
   "execution_count": null,
   "metadata": {},
   "outputs": [
    {
     "data": {
      "text/plain": [
       "'O'"
      ]
     },
     "metadata": {},
     "output_type": "display_data"
    }
   ],
   "source": [
    "string = input(\"Informe a string a ser codificada: \")\n",
    "quantidadeDeslocamentos = int(input(\"Informe a quantidade de deslocamentos de caracteres: \"))\n",
    "\n",
    "letrasMinusculas = ['a', 'b', 'c', 'd', 'e', 'f', 'g', 'h', 'i', 'j', 'k', 'l', 'm', 'n', 'o', 'p', 'q', 'r', 's', 't', 'u', 'v', 'w', 'x', 'y', 'z']\n",
    "letrasMaiusculas = ['A', 'B', 'C', 'D', 'E', 'F', 'G', 'H', 'I', 'J', 'K', 'L', 'M', 'N', 'O', 'P', 'Q', 'R', 'S', 'T', 'U', 'V', 'W', 'X', 'Y', 'Z']\n",
    "\n",
    "stringCriptografada = \"\"\n",
    "indexLetraCrip = 0\n",
    "\n",
    "for char in string:\n",
    "    indexLetraCrip = letrasMaiusculas.index(char.upper()) + quantidadeDeslocamentos\n",
    "    while (indexLetraCrip > 25):\n",
    "        indexLetraCrip -= 26\n",
    "\n",
    "    if (char == \" \"):\n",
    "        stringCriptografada += \" \"\n",
    "    elif (char.isupper()):\n",
    "        stringCriptografada += letrasMaiusculas[indexLetraCrip]\n",
    "    else:\n",
    "        stringCriptografada += letrasMinusculas[indexLetraCrip]\n",
    "\n",
    "stringCriptografada"
   ]
  },
  {
   "cell_type": "code",
   "execution_count": null,
   "metadata": {},
   "outputs": [],
   "source": []
  }
 ],
 "metadata": {
  "kernelspec": {
   "display_name": "Python 3",
   "language": "python",
   "name": "python3"
  },
  "language_info": {
   "name": "python",
   "version": "3.11.0 (main, Oct 24 2022, 18:26:48) [MSC v.1933 64 bit (AMD64)]"
  },
  "orig_nbformat": 4,
  "vscode": {
   "interpreter": {
    "hash": "c261aea317cc0286b3b3261fbba9abdec21eaa57589985bb7a274bf54d6cc0a7"
   }
  }
 },
 "nbformat": 4,
 "nbformat_minor": 2
}
