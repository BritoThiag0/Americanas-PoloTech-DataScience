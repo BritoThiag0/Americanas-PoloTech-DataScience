{
 "cells": [
  {
   "attachments": {},
   "cell_type": "markdown",
   "metadata": {},
   "source": [
    "## Lista de Exercícios 1\n",
    "### Aula 01 - Variáveis, Input e Outputs, Operações Aritméticas\n",
    "\n",
    "Os exercícios a seguir devem ser desenvolvidos e entregue as soluções através do Class. Utilize apenas o conteúdo visto em aula para resolver os exercícios!"
   ]
  },
  {
   "attachments": {},
   "cell_type": "markdown",
   "metadata": {},
   "source": [
    "#### __1)__ Crie um código que receba o __nome do aluno__, o ano de nascimento, o dia de hoje e a cidade onde mora. E o programa deve retornar o nome, a __idade__ em 2022, quantos dias faltam para o Natal (25), quantos dias que faltam para a véspera de ano novo (31) e a cidade."
   ]
  },
  {
   "cell_type": "code",
   "execution_count": null,
   "metadata": {},
   "outputs": [
    {
     "name": "stdout",
     "output_type": "stream",
     "text": [
      "O seu nome é Thiago, em 2022 você tem 22.\n",
      "Faltam 20 dias pro natal e 26 dias pro ano novo.\n",
      "Você mora em Recife.\n"
     ]
    }
   ],
   "source": [
    "nome = input(\"Qual seu nome? \")\n",
    "anoNasc = int(input(\"Qual o ano do seu nascimento? \"))\n",
    "diaHoje = int(input(\"Qual o dia de hoje? (Entre 1 e 31)\"))\n",
    "cidadeNatal = input(\"Em qual cidade você mora? \")\n",
    "\n",
    "idade = 2022 - anoNasc\n",
    "diasProNatal = 25 - diaHoje\n",
    "diasProAnoNovo = 31 - diaHoje\n",
    "\n",
    "print(f\"O seu nome é {nome}, em 2022 você tem {idade} anos.\\nFaltam {diasProNatal} dias pro natal e {diasProAnoNovo} dias pro ano novo.\\nVocê mora em {cidadeNatal}.\")"
   ]
  },
  {
   "attachments": {},
   "cell_type": "markdown",
   "metadata": {},
   "source": [
    "#### __2)__ Crie um código onde irá receber do usuário a nota de 5 provas realizadas (as notas variam entre 0 e 10 podendo ser um número decimal) e retorne o valor da média nas provas."
   ]
  },
  {
   "cell_type": "code",
   "execution_count": null,
   "metadata": {},
   "outputs": [
    {
     "name": "stdout",
     "output_type": "stream",
     "text": [
      "A média final é igual a 9.2\n"
     ]
    }
   ],
   "source": [
    "nota1 = float(input(\"Informe a 1ª nota: \"))\n",
    "nota2 = float(input(\"Informe a 2ª nota: \"))\n",
    "nota3 = float(input(\"Informe a 3ª nota: \"))\n",
    "nota4 = float(input(\"Informe a 4ª nota: \"))\n",
    "nota5 = float(input(\"Informe a 5ª nota: \"))\n",
    "\n",
    "media = (nota1 + nota2 + nota3 + nota4 + nota5) / 5\n",
    "print(f\"A média final é igual a {media}\")"
   ]
  },
  {
   "attachments": {},
   "cell_type": "markdown",
   "metadata": {},
   "source": [
    "#### __3)__ A __média ponderada__ funciona de forma parecida a média aritmética, as levando em consideração o peso de cada número utilizado no cálculo. O objetivo do exercício será montar um código para o cálculo da média ponderada conforme a equação abaixo:\n",
    "\n",
    "<br>\n",
    "\n",
    "$$ \\bar{x} = \\frac{w1*P + w2*L + w3*T}{w1 + w2 + w3}$$\n",
    "\n",
    "<br>\n",
    "\n",
    "Onde $P$ é a média de 3 provas, L é a nota em relção a entrega das Listas de exercicios (onde cada lista entregue conta como 1 ponto sendo um total de 10 listas) e T é a nota do Trabalho, onde w1, w2 e w3 são os respectivos pesos. Você deve desenvolver um código onde irá receber as notas das 3 provas (e calcular a média), irá receber quantas listas o aluno entegou entre as 10 totais e receber a nota do Trabalho. Por fim para os pesos $w1 = 0.4$, $w2 = 0.1$ e $w3 = 0.5$, devolva o valor da média ponderada do aluno."
   ]
  },
  {
   "cell_type": "code",
   "execution_count": null,
   "metadata": {},
   "outputs": [
    {
     "name": "stdout",
     "output_type": "stream",
     "text": [
      "A média ponderada do(a) aluno(a) foi de 8.8.\n"
     ]
    }
   ],
   "source": [
    "prova1 = float(input(\"Informe a nota da 1ª prova: \"))\n",
    "prova2 = float(input(\"Informe a nota da 2ª prova: \"))\n",
    "prova3 = float(input(\"Informe a nota da 1ª prova: \"))\n",
    "mediaProvas = (prova1 + prova2 + prova3) / 3\n",
    "\n",
    "listasEntregues = int(input(\"Informe quantas listas o(a) aluno(a) entregou: \"))\n",
    "\n",
    "notaTrabalho = float(input(\"Informe a nota do trabalho: \"))\n",
    "\n",
    "w1 = 0.4\n",
    "w2 = 0.1\n",
    "w3 = 0.5\n",
    "\n",
    "mediaPonderada = ((w1 * mediaProvas) + (w2 * listasEntregues) + (w3 * notaTrabalho)) / (w1 + w2 + w3)\n",
    "print(f\"A média ponderada do(a) aluno(a) foi de {mediaPonderada}.\")"
   ]
  },
  {
   "attachments": {},
   "cell_type": "markdown",
   "metadata": {},
   "source": [
    "#### __4)__ A distância euclideana entre dois pontos é dada pela seguinte equação:\n",
    "\n",
    "<br>\n",
    "\n",
    "$$ d = \\sqrt{(x_1 - x_2)^2 + (y_1 - y_2)^2} $$\n",
    "\n",
    "<br>\n",
    "\n",
    "Monte um código onde irá receber os valores de $x_1$, $y_1$, $x_2$ e $y_2$ em metros (podendo ser valores decimais) e retorne o valor da distância euclidiana em metros também."
   ]
  },
  {
   "cell_type": "code",
   "execution_count": null,
   "metadata": {},
   "outputs": [
    {
     "name": "stdout",
     "output_type": "stream",
     "text": [
      "O valor da distância euclidiana, em metros, entre os dois pontos é de 14.142135623730951.\n"
     ]
    }
   ],
   "source": [
    "x1 = float(input(\"Informe a coordenada x do ponto 1, em metros: \"))\n",
    "y1 = float(input(\"Informe a coordenada y do ponto 1, em metros: \"))\n",
    "x2 = float(input(\"Informe a coordenada x do ponto 2, em metros: \"))\n",
    "y2 = float(input(\"Informe a coordenada y do ponto 2, em metros: \"))\n",
    "\n",
    "distEuclidiana = (((x1 - x2) ** 2) + ((y1 - y2) ** 2)) ** 0.5\n",
    "\n",
    "print(f\"O valor da distância euclidiana, em metros, entre os dois pontos é de {distEuclidiana}.\")"
   ]
  },
  {
   "attachments": {},
   "cell_type": "markdown",
   "metadata": {},
   "source": [
    "#### __5)__ O desvio padrão é uma métrica de dispersão onde avalia o espalhamento dos dados em uma determinada distribuição. A equação para o cálculo do desvio padrão é dada por:\n",
    "\n",
    "<br>\n",
    "\n",
    "$$ \\sigma = \\sqrt{\\frac{\\Sigma_{i = 1}^n{(x_i - \\bar{x})^2}}{n - 1}}$$\n",
    "\n",
    "<br>\n",
    "\n",
    "Monte um código que receba 10 valores inteiros que variem entre 1 e 10, e retorne os valores da média e desvio padrão destes 10 valores. Para auxiliar no desenvolvimento, siga os passos a seguir:\n",
    "- Receba os 10 números inteiros;\n",
    "- Calcular a média dos múmeros;\n",
    "- Calcule as diferenças em relação a média ao quadrado;\n",
    "- Cacule a soma das diferenças;\n",
    "- Calcule o desvio padrão."
   ]
  },
  {
   "cell_type": "code",
   "execution_count": null,
   "metadata": {},
   "outputs": [
    {
     "name": "stdout",
     "output_type": "stream",
     "text": [
      "O desvio padrão dos valores informados é de 0.5270462766947299.\n"
     ]
    }
   ],
   "source": [
    "num1 = int(input(\"Informe o 1º valor: \"))\n",
    "num2 = int(input(\"Informe o 2º valor: \"))\n",
    "num3 = int(input(\"Informe o 3º valor: \"))\n",
    "num4 = int(input(\"Informe o 4º valor: \"))\n",
    "num5 = int(input(\"Informe o 5º valor: \"))\n",
    "num6 = int(input(\"Informe o 6º valor: \"))\n",
    "num7 = int(input(\"Informe o 7º valor: \"))\n",
    "num8 = int(input(\"Informe o 8º valor: \"))\n",
    "num9 = int(input(\"Informe o 9º valor: \"))\n",
    "num10 = int(input(\"Informe o 10º valor: \"))\n",
    "\n",
    "mediaValores = (num1 + num2 + num3 + num4 + num5 + num6 + num7 + num8 + num9 + num10) / 10\n",
    "\n",
    "difNum1 = (num1 - mediaValores) ** 2\n",
    "difNum2 = (num2 - mediaValores) ** 2\n",
    "difNum3 = (num3 - mediaValores) ** 2\n",
    "difNum4 = (num4 - mediaValores) ** 2\n",
    "difNum5 = (num5 - mediaValores) ** 2\n",
    "difNum6 = (num6 - mediaValores) ** 2\n",
    "difNum7 = (num7 - mediaValores) ** 2\n",
    "difNum8 = (num8 - mediaValores) ** 2\n",
    "difNum9 = (num9 - mediaValores) ** 2\n",
    "difNum10 = (num10 - mediaValores) ** 2\n",
    "\n",
    "somaDifs = difNum1 + difNum2 + difNum3 + difNum4 + difNum5 + difNum6 + difNum7 + difNum8 + difNum9 + difNum10\n",
    "\n",
    "desvioPadrao = (somaDifs / 9) ** 0.5\n",
    "\n",
    "print(f\"O desvio padrão dos valores informados é de {desvioPadrao}.\")"
   ]
  }
 ],
 "metadata": {
  "kernelspec": {
   "display_name": "Python 3",
   "language": "python",
   "name": "python3"
  },
  "language_info": {
   "name": "python",
   "version": "3.11.0 (main, Oct 24 2022, 18:26:48) [MSC v.1933 64 bit (AMD64)]"
  },
  "orig_nbformat": 4,
  "vscode": {
   "interpreter": {
    "hash": "c261aea317cc0286b3b3261fbba9abdec21eaa57589985bb7a274bf54d6cc0a7"
   }
  }
 },
 "nbformat": 4,
 "nbformat_minor": 2
}
