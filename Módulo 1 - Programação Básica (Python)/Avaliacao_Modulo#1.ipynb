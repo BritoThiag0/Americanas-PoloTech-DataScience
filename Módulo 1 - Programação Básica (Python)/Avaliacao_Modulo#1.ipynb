{
 "cells": [
  {
   "attachments": {},
   "cell_type": "markdown",
   "metadata": {},
   "source": [
    "## Avaliação do Módulo I - Programação Básica (Python)"
   ]
  },
  {
   "attachments": {},
   "cell_type": "markdown",
   "id": "1f00fc89",
   "metadata": {
    "id": "1f00fc89"
   },
   "source": [
    "### __1) Cadastro de uma Empresa__ (3 pontos)\n",
    "\n",
    "Uma empresa de tecnologia teve problemas com o armazenamento das informações dos funcionários. Dessa forma, a empresa solicitou a você criar um formulário onde registre algumas das principais informações sobre o usuário como:\n",
    "\n",
    "- Nome Completo\n",
    "- Idade\n",
    "- Estado\n",
    "- Setor de Atuação (Dados, Engenharia, Dev, UX)\n",
    "- Tempo de Empresa\n",
    "- Salário\n",
    "\n",
    "Crie uma função chamada `formulario`, onde o objetivo dela é pedir essas informações como _inputs_ do Usuário (a função não vai receber parâmetros, apenas os _inputs_) (1 ponto)"
   ]
  },
  {
   "cell_type": "code",
   "execution_count": null,
   "id": "7d218411",
   "metadata": {
    "colab": {
     "base_uri": "https://localhost:8080/"
    },
    "id": "7d218411",
    "outputId": "67b14b4e-3c1d-478c-9a81-70dffc43739c"
   },
   "outputs": [
    {
     "name": "stdout",
     "output_type": "stream",
     "text": [
      "Informe o nome completo: Thiago\n",
      "Informe a idade: 22\n",
      "Informe o Estado: PE\n",
      "Informe qual o setor de atuação: Dados\n",
      "Informe o tempo de empresa (anos):1\n",
      "Informe qual o salário:2400\n"
     ]
    },
    {
     "data": {
      "text/plain": [
       "['Thiago', 22, 'PE', 'Dados', 1, 2400.0]"
      ]
     },
     "metadata": {},
     "output_type": "display_data"
    }
   ],
   "source": [
    "def formulario():\n",
    "    nomeCompleto = input(\"Informe o nome completo: \")\n",
    "    idade = int(input(\"Informe a idade: \"))\n",
    "    estado = input(\"Informe o Estado: \")\n",
    "    setorAtuacao = input(\"Informe qual o setor de atuação: \")\n",
    "    tempoEmpresa = int(input(\"Informe o tempo de empresa (anos):\"))\n",
    "    salario = float(input(\"Informe qual o salário:\"))\n",
    "\n",
    "    dadosFormulario = [nomeCompleto, idade, estado, setorAtuacao, tempoEmpresa, salario]\n",
    "\n",
    "    return [nomeCompleto, idade, estado, setorAtuacao, tempoEmpresa, salario]\n",
    "\n",
    "lista = formulario()\n",
    "lista\n",
    "\n",
    "# Informe o nome completo: Thiago\n",
    "# Informe a idade: 22\n",
    "# Informe o Estado: PE\n",
    "# Informe qual o setor de atuação: Dados\n",
    "# Informe o tempo de empresa (anos):1\n",
    "# Informe qual o salário:2400\n",
    "# ['Thiago', 22, 'PE', 'Dados', 1, 2400.0]"
   ]
  },
  {
   "cell_type": "markdown",
   "id": "b3ffccd8",
   "metadata": {
    "id": "b3ffccd8"
   },
   "source": [
    "Após criar a função `formulario`, crie uma função chamada de `armazenamento` onde essa função chamada a função `formulario` para receber os _inputs_ e depois armazena essas informações em um dicionário pré-criado (este dicionário deve servir de parâmetro para a função armazenamento) (1 ponto)"
   ]
  },
  {
   "cell_type": "code",
   "execution_count": null,
   "id": "f94b7a69",
   "metadata": {
    "colab": {
     "base_uri": "https://localhost:8080/"
    },
    "id": "f94b7a69",
    "outputId": "826ee4a7-726b-4edb-87a6-99f89d000a2a"
   },
   "outputs": [
    {
     "name": "stdout",
     "output_type": "stream",
     "text": [
      "Informe o nome completo: Thiago\n",
      "Informe a idade: 22\n",
      "Informe o Estado: PE\n",
      "Informe qual o setor de atuação: Dados\n",
      "Informe o tempo de empresa (anos):1\n",
      "Informe qual o salário:2400\n",
      "Informe o nome completo: Thiago\n",
      "Informe a idade: 22\n",
      "Informe o Estado: PE\n",
      "Informe qual o setor de atuação: Dados\n",
      "Informe o tempo de empresa (anos):1\n",
      "Informe qual o salário:2400\n"
     ]
    },
    {
     "data": {
      "text/plain": [
       "{'Nome Completo': ['Thiago', 'Thiago'],\n",
       " 'Idade': [22, 22],\n",
       " 'Estado': ['PE', 'PE'],\n",
       " 'Setor de Atuação': ['Dados', 'Dados'],\n",
       " 'Tempo de Empresa': [1, 1],\n",
       " 'Salário': [2400.0, 2400.0]}"
      ]
     },
     "metadata": {},
     "output_type": "display_data"
    }
   ],
   "source": [
    "dicioArmazenamento = {\"Nome Completo\" : [], \"Idade\" : [], \"Estado\" : [], \"Setor de Atuação\" : [], \"Tempo de Empresa\" : [], \"Salário\" : []}\n",
    "\n",
    "def formulario():\n",
    "    nomeCompleto = input(\"Informe o nome completo: \")\n",
    "    idade = int(input(\"Informe a idade: \"))\n",
    "    estado = input(\"Informe o Estado: \")\n",
    "    setorAtuacao = input(\"Informe qual o setor de atuação: \")\n",
    "    tempoEmpresa = int(input(\"Informe o tempo de empresa (anos):\"))\n",
    "    salario = float(input(\"Informe qual o salário:\"))\n",
    "\n",
    "    dadosFormulario = [nomeCompleto, idade, estado, setorAtuacao, tempoEmpresa, salario]\n",
    "\n",
    "    return dadosFormulario\n",
    "\n",
    "def armazenamento(dicioArmazenamento):\n",
    "    dadosFormulario = formulario()\n",
    "    dicioArmazenamento\n",
    "    i = 0\n",
    "\n",
    "    for v in dicioArmazenamento.values():\n",
    "      v.append(dadosFormulario[i])\n",
    "      i += 1\n",
    "\n",
    "    return dicioArmazenamento\n",
    "\n",
    "dicionario = armazenamento(dicioArmazenamento)\n",
    "dicionario = armazenamento(dicionario)\n",
    "dicionario\n",
    "\n",
    "# Informe o nome completo: Thiago\n",
    "# Informe a idade: 22\n",
    "# Informe o Estado: PE\n",
    "# Informe qual o setor de atuação: Dados\n",
    "# Informe o tempo de empresa (anos):1\n",
    "# Informe qual o salário:2400\n",
    "# Informe o nome completo: Thiago\n",
    "# Informe a idade: 22\n",
    "# Informe o Estado: PE\n",
    "# Informe qual o setor de atuação: Dados\n",
    "# Informe o tempo de empresa (anos):1\n",
    "# Informe qual o salário:2400\n",
    "# {'Nome Completo': ['Thiago', 'Thiago'],\n",
    "#  'Idade': [22, 22],\n",
    "#  'Estado': ['PE', 'PE'],\n",
    "#  'Setor de Atuação': ['Dados', 'Dados'],\n",
    "#  'Tempo de Empresa': [1, 1],\n",
    "#  'Salário': [2400.0, 2400.0]}"
   ]
  },
  {
   "cell_type": "markdown",
   "id": "a7b7216f",
   "metadata": {
    "id": "a7b7216f"
   },
   "source": [
    "Gere o dicionário com o registro de 4 funcionários (crie os dados dos funcionários!) (1 ponto)"
   ]
  },
  {
   "cell_type": "code",
   "execution_count": null,
   "id": "a0a9835b",
   "metadata": {
    "colab": {
     "base_uri": "https://localhost:8080/"
    },
    "id": "a0a9835b",
    "outputId": "dee4c3c6-48c5-4f0b-d681-c7392786b2f3"
   },
   "outputs": [
    {
     "data": {
      "text/plain": [
       "{'Nome Completo': ['Thiago', 'Brito', 'Paulo', 'Pedro'],\n",
       " 'Idade': [22, 22, 46, 34],\n",
       " 'Estado': ['PE', 'PE', 'PB', 'AL'],\n",
       " 'Setor de Atuação': ['Dados', 'Dados', 'Desenvolvedor', 'Design'],\n",
       " 'Tempo de Empresa': [1, 1, 19, 8],\n",
       " 'Salário': [2400.0, 2400.0, 7000.0, 5000.0]}"
      ]
     },
     "metadata": {},
     "output_type": "display_data"
    }
   ],
   "source": [
    "dicioArmazenamento = {\"Nome Completo\" : [], \"Idade\" : [], \"Estado\" : [], \"Setor de Atuação\" : [], \"Tempo de Empresa\" : [], \"Salário\" : []}\n",
    "\n",
    "def formulario():\n",
    "    nomeCompleto = input(\"Informe o nome completo: \")\n",
    "    idade = int(input(\"Informe a idade: \"))\n",
    "    estado = input(\"Informe o Estado: \")\n",
    "    setorAtuacao = input(\"Informe qual o setor de atuação: \")\n",
    "    tempoEmpresa = int(input(\"Informe o tempo de empresa (anos):\"))\n",
    "    salario = float(input(\"Informe qual o salário:\"))\n",
    "\n",
    "    dadosFormulario = [nomeCompleto, idade, estado, setorAtuacao, tempoEmpresa, salario]\n",
    "\n",
    "    return dadosFormulario\n",
    "\n",
    "def armazenamento(dicioArmazenamento):\n",
    "    dadosFormulario = formulario()\n",
    "    dicioArmazenamento\n",
    "    i = 0\n",
    "\n",
    "    for v in dicioArmazenamento.values():\n",
    "      v.append(dadosFormulario[i])\n",
    "      i += 1\n",
    "\n",
    "    return dicioArmazenamento\n",
    "\n",
    "dicionario = armazenamento(dicioArmazenamento)\n",
    "dicionario = armazenamento(dicionario)\n",
    "dicionario = armazenamento(dicionario)\n",
    "dicionario = armazenamento(dicionario)\n",
    "dicionario\n",
    "\n",
    "# {'Nome Completo': ['Thiago', 'Brito', 'Paulo', 'Pedro'],\n",
    "#  'Idade': [22, 22, 46, 34],\n",
    "#  'Estado': ['PE', 'PE', 'PB', 'AL'],\n",
    "#  'Setor de Atuação': ['Dados', 'Dados', 'Desenvolvedor', 'Design'],\n",
    "#  'Tempo de Empresa': [1, 1, 19, 8],\n",
    "#  'Salário': [2000.0, 2400.0, 7000.0, 5000.0]}"
   ]
  },
  {
   "attachments": {},
   "cell_type": "markdown",
   "id": "03051e48",
   "metadata": {
    "id": "03051e48"
   },
   "source": [
    "### __2) Holerite - INSS__ (1 ponto)\n",
    "\n",
    "Para quem trabalha com carteira assinada é extremamente importante que saba como funciona as contribuições sobre o salário para o INSS e o IRRF (imposto de renda). No caso para o cálculo do INSS temos como referência a tabela abaixo:\n",
    "\n",
    "<br>\n",
    "\n",
    "|    **Salário (R$)**    | **% de Contribuição na faixa** |\n",
    "|:----------------------:|:------------------------------:|\n",
    "|      Até 1.212,00      |              7,5%              |\n",
    "| de 1.212,01 a 2.427,35 |              9,0%              |\n",
    "| de 2.427,36 a 3.641,03 |               12%              |\n",
    "| de 3.641,04 a 7.087,22 |               !4%              |\n",
    "\n",
    "<br>\n",
    "\n",
    "Mas note que o cálculo é um pouco mais complexo devido a ser __calculada sobre a faixa__, conforme alguns exemplos:\n",
    "\n",
    "- Exemplo  1 - Salário R$ 1.100,00\n",
    "\n",
    "$$ INSS = 7,5\\% * 1.100,00 = R\\$ 82,50 $$\n",
    "\n",
    "<br>\n",
    "\n",
    "- Exemplo  2 - Salário R$ 3.500,00:\n",
    "\n",
    "Como este salário encontra-se na 3 faixa, a contribuição será igual ao teto da 1ª faixa + teto da 2ª faixa + diferença na 3ª faixa, conforme o exemplo:\n",
    "\n",
    "$$ INSS = max(1ª faixa) + max(2ª faixa) + diff(3ª faixa) = 7,5\\% * (1.212,00 - 0,00) + 9,0\\% * (2.427,35 - 1.212,01) + 12\\% * (3.500,00 - 2.427,36) = 90,90 + 109,38 + 128,72 = R\\$ 328,98 $$\n",
    "\n",
    "- Exemplo 3 - Salário R$ 10.000,00\n",
    "\n",
    "Note que para salários maiores que R$ 7.087,22, o valor da contribuição será igual ao teto de todas as faixas:\n",
    "\n",
    "$$ INSS = max(1ª faixa) + max(2ª faixa) + max(3ª faixa) + max(4ª faixa) = 7,5\\% * (1.212,00 - 0,00) + 9,0\\% * (2.427,35 - 1.212,01) + 12\\% * (3.641,03 - 2.427,36) + 14\\% * (7.087,22 - 3.641,04) = 90,90 + 109,38 + 145,64 + 482,47 = R\\$ 828,39 $$\n",
    "\n",
    "O objetivo deste exercício e montar uma função nomeada como `inss` que dado o valor do salário devolva qual vai ser a contribuição salarial para o INSS.  (1 ponto)"
   ]
  },
  {
   "cell_type": "code",
   "execution_count": null,
   "id": "c940ba92",
   "metadata": {
    "colab": {
     "base_uri": "https://localhost:8080/"
    },
    "id": "c940ba92",
    "outputId": "4f8cdd13-c262-4e6b-96a6-3c8c93df67ef"
   },
   "outputs": [
    {
     "data": {
      "text/plain": [
       "828.39"
      ]
     },
     "metadata": {},
     "output_type": "display_data"
    }
   ],
   "source": [
    "def inss(salario):\n",
    "  valorSalario = float(salario)\n",
    "\n",
    "  if (valorSalario <= 1212):\n",
    "    contribuicaoINSS = valorSalario * 0.075\n",
    "  elif (1212 < valorSalario <= 2427.35):\n",
    "    contribuicaoINSS = (0.075 * (1212 - 0)) + (0.09 * (valorSalario - 1212.01))\n",
    "  elif (2427.35 < valorSalario <= 3641.03):\n",
    "    contribuicaoINSS = (0.075 * (1212 - 0)) + (0.09 * (2427.35 - 1212.01)) + (0.12 * (valorSalario - 2427.36))\n",
    "  elif (3641.03 < valorSalario <= 7087.22):\n",
    "    contribuicaoINSS = (0.075 * (1212 - 0)) + (0.09 * (2427.35 - 1212.01)) + (0.12 * (3641.03 - 2427.36)) + (0.14 * (valorSalario - 3641.04))\n",
    "  else:\n",
    "    contribuicaoINSS = (0.075 * (1212 - 0)) + (0.09 * (2427.35 - 1212.01)) + (0.12 * (3641.03 - 2427.36)) + (0.14 * (7087.22 - 3641.04))\n",
    "\n",
    "\n",
    "  return float(f'{contribuicaoINSS:.2f}')\n",
    "\n",
    "inss(10000)"
   ]
  },
  {
   "attachments": {},
   "cell_type": "markdown",
   "id": "af01ce84",
   "metadata": {
    "id": "af01ce84"
   },
   "source": [
    "### __3) Holerite - IRRF__ (1 ponto)\n",
    "\n",
    "Para quem trabalha com carteira assinada é extremamente importante que saba como funciona as contribuições sobre o salário para o INSS e o IRRF (imposto de renda). Após conhecer como que funciona a contribuição ao INSS, agora vamos desenvolver algo em relação ao imposto de renda (IRRF). Par este cálculo também precisaremos de uma tabela de referência:\n",
    "\n",
    "<br>\n",
    "\n",
    "|       **Salário**      | **% de Contribuição** | **Desconto** |\n",
    "|:----------------------:|:---------------------:|:------------:|\n",
    "|      Até 1.903,98      |           0%          |     0,00     |\n",
    "| de 1.903,99 a 2.826,65 |         7,50%         |    142,80    |\n",
    "| de 2.826,66 a 3.751,05 |         15,00%        |    354,80    |\n",
    "| de 3.751,06 a 4.664,68 |         22,50%        |    636,13    |\n",
    "|    Acima de 4.664,68   |         27,50%        |    869,36    |\n",
    "\n",
    "<br>\n",
    "\n",
    "No caso do imposto de renda, a regra é um pouco diferente pois o percentual é calculado encima de todo o salário bruto menos alguns descontos, diferente do INSS que tinha contribuição por faixas. Além disso, no caso no imposto de renda a pessoa pode declarar dependentes e a cada dependente declarado recebe um desconto de 189,59. Para definir de fato o salário a ser considerado imposto deve descontar __o valor do INSS__ e o desconto de __dependentes__. Conforme os exemplos a seguir:\n",
    "\n",
    "\n",
    "##### Exemplo  1 - Salário 1.100,00 - nenhum dependente\n",
    "\n",
    "- Salário Bruto: 1.100,00\n",
    "- INSS: 82,50\n",
    "- Dependentes: 0,00\n",
    "- Salário considerado no IRRF = 1100 - 82,50 - 0 = 1.017,50\n",
    "\n",
    "- Faixa do IRRF - Primeira Faixa\n",
    "- Contribuição IRRF: 0,00\n",
    "- Salário Líquido: 1100 - 82,50 = 1.017,50\n",
    "\n",
    "<br>\n",
    "\n",
    "##### Exemplo  2 - Salário 3.500,00 - 1 dependente\n",
    "\n",
    "- Salário Bruto: 3.500,00\n",
    "- INSS: 328,98\n",
    "- Dependentes: 1*189,59 = 189,59\n",
    "- Salário considerado no IRRF = 3500 - 328,98 - 189,59 = 2.981,43\n",
    "\n",
    "- Faixa do IRRF - Terceira Faixa (15%)\n",
    "- Contribuição IRRF: 0.15*2981,43 - 354,80 = 92,41\n",
    "- Salário Líquido: 3500 - 328,92 - 92,41 = 3.078,67\n",
    "\n",
    "<br>\n",
    "\n",
    "##### Exemplo  3 - Salário 10.000,00 - 3 dependentes\n",
    "\n",
    "- Salário Bruto: 10.000,00\n",
    "- INSS: 828,39\n",
    "- Dependentes: 3*189,59 = 568,77\n",
    "- Salário considerado no IRRF = 10000 - 828,39 - 568,77 = 8.602,84\n",
    "\n",
    "- Faixa do IRRF - Última faixa (27,5%)\n",
    "- Contribuição IRRF: 0.275*8602,84 - 869,36 = 1.496,42\n",
    "- Salário Líquido: 10000 - 828,39 - 1496,42 = 7.675,19\n",
    "\n",
    "De senvolva a função nomeada como `irrf` onde irá receber o salario bruto (sem o desconto do INSS) e a quantidade de dependentes que a pessoa tiver. E a função deve devolver respectivamente o __valor da contribuição de imposto__ e o __salário líquido__. (1 ponto)\n"
   ]
  },
  {
   "cell_type": "code",
   "execution_count": null,
   "id": "54f0117e",
   "metadata": {
    "colab": {
     "base_uri": "https://localhost:8080/"
    },
    "id": "54f0117e",
    "outputId": "023be80f-4a70-412a-d191-f784b2571262"
   },
   "outputs": [
    {
     "data": {
      "text/plain": [
       "[1496.42, 7675.19]"
      ]
     },
     "metadata": {},
     "output_type": "display_data"
    }
   ],
   "source": [
    "# Função para cálculo do INSS\n",
    "def inss(salario):\n",
    "  valorSalario = float(salario)\n",
    "\n",
    "  if (valorSalario <= 1212):\n",
    "    contribuicaoINSS = valorSalario * 0.075\n",
    "  elif (1212 < valorSalario <= 2427.35):\n",
    "    contribuicaoINSS = (0.075 * (1212 - 0)) + (0.09 * (valorSalario - 1212.01))\n",
    "  elif (2427.35 < valorSalario <= 3641.03):\n",
    "    contribuicaoINSS = (0.075 * (1212 - 0)) + (0.09 * (2427.35 - 1212.01)) + (0.12 * (valorSalario - 2427.36))\n",
    "  elif (3641.03 < valorSalario <= 7087.22):\n",
    "    contribuicaoINSS = (0.075 * (1212 - 0)) + (0.09 * (2427.35 - 1212.01)) + (0.12 * (3641.03 - 2427.36)) + (0.14 * (valorSalario - 3641.04))\n",
    "  else:\n",
    "    contribuicaoINSS = (0.075 * (1212 - 0)) + (0.09 * (2427.35 - 1212.01)) + (0.12 * (3641.03 - 2427.36)) + (0.14 * (7087.22 - 3641.04))\n",
    "\n",
    "  return float(f'{contribuicaoINSS:.2f}')\n",
    "\n",
    "# Função para cálculo do IRRF\n",
    "def irrf(salarioBruto, qtdDependentes):\n",
    "  quantidadeDependentes = qtdDependentes\n",
    "  salarioBrutoValor = salarioBruto\n",
    "  descontoInss = inss(salarioBrutoValor)\n",
    "  descontoDependentes = quantidadeDependentes * 189.59\n",
    "\n",
    "  salarioIrrf = salarioBrutoValor - descontoInss - descontoDependentes\n",
    "\n",
    "  if (salarioIrrf <= 1903.98):\n",
    "    contribuicaoIrrf = 0\n",
    "  elif (1903.98 < salarioIrrf <= 2826.65):\n",
    "    contribuicaoIrrf = (0.075 * salarioIrrf) - 142.8\n",
    "  elif (2826.65 < salarioIrrf <= 3751.05):\n",
    "    contribuicaoIrrf = (0.15 * salarioIrrf) - 354.8\n",
    "  elif (3751.05 < salarioIrrf <= 4664.68):\n",
    "    contribuicaoIrrf = (0.225 * salarioIrrf) - 636.13\n",
    "  else:\n",
    "    contribuicaoIrrf = (0.275 * salarioIrrf) - 869.36\n",
    "\n",
    "  salarioLiquido = salarioBrutoValor - descontoInss - contribuicaoIrrf\n",
    "\n",
    "  return [float(f'{contribuicaoIrrf:.2f}'), float(f'{salarioLiquido:.2f}')]\n",
    "\n",
    "irrf(10000, 3)"
   ]
  },
  {
   "attachments": {},
   "cell_type": "markdown",
   "id": "11ebde57",
   "metadata": {
    "id": "11ebde57"
   },
   "source": [
    "### __4) Média Harmônica__ (2 pontos)\n",
    "\n",
    "A __média harmônica__ é dada pela média de um conjunto de dados quaisquer utilizando da seguinte fórmula:\n",
    "\n",
    "$$\\frac{n}{\\frac{1}{x_1} + \\frac{1}{x_2} + \\frac{1}{x_3} + ... + \\frac{1}{x_n}}$$\n",
    "\n",
    "Note para qualquer valor de X que fique cada vez mais próximo de zero, a tendência é que a media harmônica caia rapidamente para zero.\n",
    "\n",
    "O objetvo desse exercício será dividido em duas partes partes:"
   ]
  },
  {
   "cell_type": "markdown",
   "id": "20575075",
   "metadata": {
    "id": "20575075"
   },
   "source": [
    "- Desenvolva uma função para calcular a __média aritmética__, __média geométrica__ e __média harmonica__ dado como parâmetro uma lista de números inteiros: (1 ponto)"
   ]
  },
  {
   "cell_type": "code",
   "execution_count": null,
   "id": "a8fb7f54",
   "metadata": {},
   "outputs": [
    {
     "name": "stdout",
     "output_type": "stream",
     "text": [
      "4.0\n",
      "17.14523776462679\n",
      "2.6997245179063363\n"
     ]
    }
   ],
   "source": [
    "def mediaAritmetica(lista):\n",
    "    listaInteiros = lista\n",
    "    contador = 0\n",
    "    soma = 0\n",
    "\n",
    "    for num in listaInteiros:\n",
    "        soma += int(num)\n",
    "        contador += 1\n",
    "\n",
    "    mediaAri = soma / contador\n",
    "    return mediaAri\n",
    "\n",
    "def mediaGeometrica(lista):\n",
    "    listaInteiros = lista\n",
    "    multiplicacao = 1\n",
    "\n",
    "    for num in listaInteiros:\n",
    "        multiplicacao *= int(num)\n",
    "\n",
    "    mediaGeo = (multiplicacao) ** (1/3)\n",
    "\n",
    "    return mediaGeo\n",
    "\n",
    "def mediaHarmonica(lista):\n",
    "    listaInteiros = lista\n",
    "    contador = 0\n",
    "    soma = 0\n",
    "\n",
    "    for num in listaInteiros:\n",
    "        soma += (1 / (int(num)))\n",
    "        contador += 1\n",
    "\n",
    "    mediaGeo = contador / soma\n",
    "    return mediaGeo\n",
    "\n",
    "listaInteiros = [1, 2, 3, 4, 5, 6, 7]\n",
    "print(mediaAritmetica(listaInteiros))\n",
    "print(mediaGeometrica(listaInteiros))\n",
    "print(mediaHarmonica(listaInteiros))\n"
   ]
  },
  {
   "cell_type": "markdown",
   "id": "dea22f1c",
   "metadata": {
    "id": "dea22f1c"
   },
   "source": [
    "- Crie uma lista aleatória com 10 elementos variando eles entre 1 e 10 (utilize a biblioteca random). Após isso, avalie como cada uma das médias evolui ao longo da quntidade de elementos que utilizar. Então crie uma malha de repetição que irá calcular ambas as médias e mostrar os resultados utilizando inicialmente os dois primeiros números e ir aumentando progressivamente até utilizar todos eles: (1 ponto)"
   ]
  },
  {
   "cell_type": "code",
   "execution_count": null,
   "id": "6a3c4641",
   "metadata": {
    "id": "6a3c4641"
   },
   "outputs": [
    {
     "name": "stdout",
     "output_type": "stream",
     "text": [
      "[9, 9, 10, 9, 6, 9, 2, 1, 5, 7]\n",
      "Considerando 2 elementos da lista:\n",
      "- Aritmetica: 9.00\n",
      "- Geométrica: 4.33\n",
      "- Harmônica: 9.00\n",
      "-----------------------------\n",
      "Considerando 3 elementos da lista:\n",
      "- Aritmetica: 9.33\n",
      "- Geométrica: 9.32\n",
      "- Harmônica: 9.31\n",
      "-----------------------------\n",
      "Considerando 4 elementos da lista:\n",
      "- Aritmetica: 9.25\n",
      "- Geométrica: 19.39\n",
      "- Harmônica: 9.23\n",
      "-----------------------------\n",
      "Considerando 5 elementos da lista:\n",
      "- Aritmetica: 8.60\n",
      "- Geométrica: 35.23\n",
      "- Harmônica: 8.33\n",
      "-----------------------------\n",
      "Considerando 6 elementos da lista:\n",
      "- Aritmetica: 8.67\n",
      "- Geométrica: 73.29\n",
      "- Harmônica: 8.44\n",
      "-----------------------------\n",
      "Considerando 7 elementos da lista:\n",
      "- Aritmetica: 7.71\n",
      "- Geométrica: 92.34\n",
      "- Harmônica: 5.78\n",
      "-----------------------------\n",
      "Considerando 8 elementos da lista:\n",
      "- Aritmetica: 6.88\n",
      "- Geométrica: 92.34\n",
      "- Harmônica: 3.62\n",
      "-----------------------------\n",
      "Considerando 9 elementos da lista:\n",
      "- Aritmetica: 6.67\n",
      "- Geométrica: 157.90\n",
      "- Harmônica: 3.73\n",
      "-----------------------------\n",
      "Considerando 10 elementos da lista:\n",
      "- Aritmetica: 6.70\n",
      "- Geométrica: 302.05\n",
      "- Harmônica: 3.92\n",
      "-----------------------------\n"
     ]
    }
   ],
   "source": [
    "import random\n",
    "\n",
    "def mediaAritmetica(lista):\n",
    "    listaInteiros = lista\n",
    "    contador = 0\n",
    "    soma = 0\n",
    "\n",
    "    for num in listaInteiros:\n",
    "        soma += int(num)\n",
    "        contador += 1\n",
    "\n",
    "    mediaAri = soma / contador\n",
    "    return mediaAri\n",
    "\n",
    "def mediaGeometrica(lista):\n",
    "    listaInteiros = lista\n",
    "    multiplicacao = 1\n",
    "\n",
    "    for num in listaInteiros:\n",
    "        multiplicacao *= int(num)\n",
    "\n",
    "    mediaGeo = (multiplicacao) ** (1/3)\n",
    "\n",
    "    return mediaGeo\n",
    "\n",
    "def mediaHarmonica(lista):\n",
    "    listaInteiros = lista\n",
    "    contador = 0\n",
    "    soma = 0\n",
    "\n",
    "    for num in listaInteiros:\n",
    "        soma += (1 / (int(num)))\n",
    "        contador += 1\n",
    "\n",
    "    mediaGeo = contador / soma\n",
    "    return mediaGeo\n",
    "\n",
    "listaAleatoria = []\n",
    "for num in range(10):\n",
    "    listaAleatoria.append(random.randint(1, 10))\n",
    "\n",
    "# listaInteiros = [1, 2, 3, 4, 5, 6, 7]\n",
    "print(listaAleatoria)\n",
    "for num in range(2, len(listaAleatoria) + 1):\n",
    "    print(f\"Considerando {num} elementos da lista:\")\n",
    "    print(f\"- Aritmetica: {mediaAritmetica(listaAleatoria[:num]):.2f}\")\n",
    "    print(f\"- Geométrica: {mediaGeometrica(listaAleatoria[:num]):.2f}\")\n",
    "    print(f\"- Harmônica: {mediaHarmonica(listaAleatoria[:num]):.2f}\")\n",
    "    print(\"-----------------------------\")\n"
   ]
  },
  {
   "attachments": {},
   "cell_type": "markdown",
   "id": "a9dc00f9",
   "metadata": {
    "id": "a9dc00f9"
   },
   "source": [
    "### __5) Progressão Geométrica__ (1 ponto)\n",
    "\n",
    "A progressão geométrica (PG) é uma sequência de números onde a diferença entre dois consecutivos é sempre a mesma. Um exemplo de uma PG pode ser dado pela base de múltiplos de 2 , onde temos que (2, 4, 8, 16, ...)\n",
    "\n",
    "Uma PG segue a seguinte equação:\n",
    "\n",
    "$$ a_n = a_1 * q^{n - 1} $$\n",
    "\n",
    "onde, $ a_n$ é o n-ésimo elemento da PA, $a_1$ é o primeiro elemento da sequência, n é a quantidade de elementos considerada e $q$ a razão ou ordem de grandeza que aumenta de um elemento ao outro.\n",
    "\n",
    "O Objetivo do exercício será desenvolver uma função nomeada `progressao_geometrica` onde receberá como parâmetros $a_1$, $n$ e $q$ e a função deve printar o elemento $a_n$ e printar todos os elementos da PG em $a_1$ e $a_n$"
   ]
  },
  {
   "cell_type": "code",
   "execution_count": null,
   "id": "12aeea3b",
   "metadata": {
    "id": "12aeea3b"
   },
   "outputs": [
    {
     "name": "stdout",
     "output_type": "stream",
     "text": [
      "a1 = 1\n",
      "a2 = 2\n",
      "a3 = 4\n",
      "a4 = 8\n",
      "a5 = 16\n",
      "a6 = 32\n",
      "a7 = 64\n"
     ]
    }
   ],
   "source": [
    "def progressaoGeometrica(a1, n, q):\n",
    "    an = a1 * ((q) ** (n - 1))\n",
    "\n",
    "    for num in range(1, n):\n",
    "        print(f\"a{num} = {a1 * ((q) ** (num - 1))}\")\n",
    "\n",
    "    print(f\"a{n} = {an}\")\n",
    "\n",
    "progressaoGeometrica(1, 7, 2)"
   ]
  },
  {
   "attachments": {},
   "cell_type": "markdown",
   "id": "c806c6d3",
   "metadata": {
    "id": "c806c6d3"
   },
   "source": [
    "### __6) Conversor DNA e RNA__ (1 ponto)\n",
    "\n",
    "O código genético formado pelo DNA e RNA são compostos de alguns aminoácidos como Adenina (A), Guanina (G), Citosina (C), Timina(T) e Uracila(U). A cadeia do DNA é composto pelos aminoácidos AGCT e do RNA seria AGCU, pois ao copiar do DNA ele substitui o aminoácido Timina (T) pela Uracila (U). O objetivo deste exercício será desenvlver uma função que chamada de `tradutor_dna_to_rna` onde como entrada irá receber uma `string`com o código do DNA e deve-se devolver o código traduzido pelo RNA."
   ]
  },
  {
   "cell_type": "code",
   "execution_count": null,
   "id": "49ba51a1",
   "metadata": {
    "id": "49ba51a1"
   },
   "outputs": [
    {
     "data": {
      "text/plain": [
       "'AGCUGGUCUUU'"
      ]
     },
     "metadata": {},
     "output_type": "display_data"
    }
   ],
   "source": [
    "def tradutorDnaToRna(codigoDna):\n",
    "    traduzirDna = codigoDna\n",
    "    traduzidoRna = \"\"\n",
    "\n",
    "    for char in traduzirDna.upper():\n",
    "        if (char == \"T\"):\n",
    "            char = \"U\"\n",
    "            traduzidoRna += char\n",
    "        else:\n",
    "            traduzidoRna += char\n",
    "    \n",
    "    return traduzidoRna\n",
    "\n",
    "dna = 'AGCTGGTCTTT'\n",
    "rna = tradutorDnaToRna(dna)\n",
    "rna # 'AGCUGGGCUUU'"
   ]
  },
  {
   "attachments": {},
   "cell_type": "markdown",
   "id": "3854cfed",
   "metadata": {
    "id": "3854cfed"
   },
   "source": [
    "### __7) Conversor Binario para Numero__ (2 pontos)\n",
    "\n",
    "O Sistema binário é uma representação da matemática onde a base de referência para a construção dos números é o 2 ao invés do 10 comum na base decimal. Por exemplo o binário `1001` na base decimal será igual $ 1001 = 1*2^3 + 0*2^2 + 0*2^1 + 1*2^0 = 9 $. O objetivo deste exercício é desenvolver uma função nomeada como `conversor_binario`, onde irá receber uma `string` com o número binário correspondente e a função deve devolver o respectivo número na base decimal."
   ]
  },
  {
   "cell_type": "code",
   "execution_count": null,
   "id": "905b5c2d",
   "metadata": {
    "id": "905b5c2d"
   },
   "outputs": [
    {
     "data": {
      "text/plain": [
       "11"
      ]
     },
     "metadata": {},
     "output_type": "display_data"
    }
   ],
   "source": [
    "def conversorBinario(numeroBinarioStr):\n",
    "    numeroBinario = []\n",
    "    for i in range(len(numeroBinarioStr)):\n",
    "        numeroBinario.append(int(numeroBinarioStr[i]))\n",
    "    \n",
    "    numeroDecimal = 0\n",
    "    numeroBinarioInvertido = numeroBinario[::-1]\n",
    "    for i in range(len(numeroBinarioInvertido)):\n",
    "        numeroDecimal += (numeroBinarioInvertido[i] * (2 ** i))\n",
    "\n",
    "    return numeroDecimal\n",
    "\n",
    "conversorBinario(\"1011\")"
   ]
  }
 ],
 "metadata": {
  "kernelspec": {
   "display_name": "Python 3",
   "language": "python",
   "name": "python3"
  },
  "language_info": {
   "codemirror_mode": {
    "name": "ipython",
    "version": 3
   },
   "file_extension": ".py",
   "mimetype": "text/x-python",
   "name": "python",
   "nbconvert_exporter": "python",
   "pygments_lexer": "ipython3",
   "version": "3.11.0 (main, Oct 24 2022, 18:26:48) [MSC v.1933 64 bit (AMD64)]"
  },
  "orig_nbformat": 4,
  "vscode": {
   "interpreter": {
    "hash": "c261aea317cc0286b3b3261fbba9abdec21eaa57589985bb7a274bf54d6cc0a7"
   }
  }
 },
 "nbformat": 4,
 "nbformat_minor": 2
}
