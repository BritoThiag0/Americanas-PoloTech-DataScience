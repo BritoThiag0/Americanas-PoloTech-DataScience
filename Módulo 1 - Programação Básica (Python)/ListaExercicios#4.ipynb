{
 "cells": [
  {
   "attachments": {},
   "cell_type": "markdown",
   "metadata": {
    "id": "6t7MOGVlwvSG"
   },
   "source": [
    "## Lista de Exercícios 4\n",
    "### Aula 04 - Listas e Funções"
   ]
  },
  {
   "attachments": {},
   "cell_type": "markdown",
   "metadata": {},
   "source": [
    "#### __1)__ Normalização de Dados, também conhecido na estatística como Z-Score, é quando temos uma distribuição de dados quaisquer em determinada escala e gostariamos de converter-los para uma distribuição com o comportamento de uma distrbuição Normal (também conhecida como Gaussiana).\n",
    "\n",
    "Para fazer a normalização dos dados devemos converte-los de acordo com a seguinte fórmula:\n",
    "\n",
    "$$ Z = \\frac{x - \\mu}{\\sigma} $$\n",
    "\n",
    "Onde $x$ é um dado da nossa distribuição, $\\mu$ é a média desta distribuição e $\\sigma$ é o desvio padrão da distribuição.\n",
    "\n",
    "Vamos dividir o exercício nos seguintes itens:"
   ]
  },
  {
   "cell_type": "markdown",
   "metadata": {},
   "source": [
    "__1.1)__ Desenvolva uma função para calcular a média e o desvio padrão para uma lista de tamanho qualquer (1 ponto)"
   ]
  },
  {
   "cell_type": "code",
   "execution_count": null,
   "metadata": {},
   "outputs": [],
   "source": [
    "lista = [18, 2, 16, 5, 6]\n",
    "\n",
    "def media(lista):\n",
    "\n",
    "    # Quantidade de elementos na lista\n",
    "    tamLista = len(lista)\n",
    "    \n",
    "    soma = 0\n",
    "    for i in lista:\n",
    "        soma += i\n",
    "    \n",
    "    media = soma / tamLista\n",
    "    return media\n",
    "\n",
    "def desvioPadrao(lista):\n",
    "    # Quantidade de elementos na lista\n",
    "    tamLista = len(lista)\n",
    "    \n",
    "    soma = 0\n",
    "    for i in lista:\n",
    "        soma += i\n",
    "    \n",
    "    media = soma / tamLista\n",
    "\n",
    "    somatorio = 0\n",
    "    for i in lista:\n",
    "        somatorio += ((i - media) ** 2)\n",
    "    \n",
    "    desvioPadrao = ((somatorio / (tamLista - 1)) ** 0.5)\n",
    "\n",
    "    return desvioPadrao\n"
   ]
  },
  {
   "cell_type": "markdown",
   "metadata": {},
   "source": [
    "__1.2)__ Desenvolva uma função que faça a normalização segundo a formula do Z e retorne a lista de dados normalizados. (1 ponto)"
   ]
  },
  {
   "cell_type": "code",
   "execution_count": null,
   "metadata": {},
   "outputs": [],
   "source": [
    "# exemplo 1\n",
    "# Vetor = [10, 7, 17, 2, 7, 9, 4, 10, 6, 11]\n",
    "# Resultado = [0.4081959811176985,\n",
    "# -0.31214986791353444,\n",
    "# 2.0890029621905755,\n",
    "# -1.5127262829655894,\n",
    "# -0.31214986791353444,\n",
    "# 0.1680806981072875,\n",
    "# -1.0324957169447675,\n",
    "# 0.4081959811176985,\n",
    "# -0.5522651509239455,\n",
    "# 0.6483112641281095]"
   ]
  },
  {
   "cell_type": "code",
   "execution_count": null,
   "metadata": {},
   "outputs": [
    {
     "name": "stdout",
     "output_type": "stream",
     "text": [
      "[1.2066090965225744, -1.0382450365426805, 0.9260023298894177, -0.6173348865929451, -0.47703150327636673]\n"
     ]
    }
   ],
   "source": [
    "lista = [18, 2, 16, 5, 6]\n",
    "\n",
    "def media(lista):\n",
    "\n",
    "    # Quantidade de elementos na lista\n",
    "    tamLista = len(lista)\n",
    "    \n",
    "    soma = 0\n",
    "    for i in lista:\n",
    "        soma += i\n",
    "    \n",
    "    media = soma / tamLista\n",
    "    return media\n",
    "\n",
    "def desvioPadrao(lista):\n",
    "    # Quantidade de elementos na lista\n",
    "    tamLista = len(lista)\n",
    "    \n",
    "    soma = 0\n",
    "    for i in lista:\n",
    "        soma += i\n",
    "    \n",
    "    media = soma / tamLista\n",
    "\n",
    "    somatorio = 0\n",
    "    for i in lista:\n",
    "        somatorio += ((i - media) ** 2)\n",
    "    \n",
    "    desvioPadrao = ((somatorio / (tamLista - 1)) ** 0.5)\n",
    "\n",
    "    return desvioPadrao\n",
    "\n",
    "def normalizacao(lista):\n",
    "    mediaLista = media(lista)\n",
    "    desvioPadraoLista = desvioPadrao(lista)\n",
    "\n",
    "    z = []\n",
    "\n",
    "    for x in lista:\n",
    "        normalizado = ((x - mediaLista) / desvioPadraoLista)\n",
    "        z.append(normalizado)\n",
    "\n",
    "    return z\n",
    "\n",
    "print(normalizacao(lista))"
   ]
  },
  {
   "attachments": {},
   "cell_type": "markdown",
   "metadata": {},
   "source": [
    "#### __2)__ O _MinMaxScaler_ é uma técnica de reescalonamento de um conjunto de dados parecida com a normalização ou no caso Z-score. A diferença é que ao invés de utilizar média e desvio padrão, utiliza-se os valores extremos (máximo e mínino), segundo a equação a seguir:\n",
    "\n",
    "$$ S = \\frac{x - min}{max - min} $$\n",
    "\n",
    "Onde X é um determinado elemento da lista, $min$ é o menor valor da lista e $max$ e o maior valor da lista.\n",
    "\n",
    "Desenvolva uma função que ao receber uma lista de dados quaisquer converta para a escala segundo o _MinMaxScaler_ (2 pontos)"
   ]
  },
  {
   "cell_type": "code",
   "execution_count": null,
   "metadata": {},
   "outputs": [],
   "source": [
    "# Exemplo 1:\n",
    "# Vetor = [15, 7, 16, 1, 3, 15, 17, 9, 11, 1]\n",
    "# Resultado = [0.875, 0.375, 0.9375, 0.0, 0.125, 0.875, 1.0, 0.5, 0.625, 0.0]\n",
    "\n",
    "# Exemplo 2:\n",
    "# Vetor = [15, 7, 16, 1, 3, 15, 17, 9, 11, 1]\n",
    "# Resultado = [0.0,\n",
    "# 1.0,\n",
    "# 0.9473684210526315,\n",
    "# 0.631578947368421,\n",
    "# 1.0,\n",
    "# 0.5789473684210527,\n",
    "# 0.42105263157894735,\n",
    "# 0.8947368421052632,\n",
    "# 0.7368421052631579,\n",
    "# 0.3157894736842105]"
   ]
  },
  {
   "cell_type": "code",
   "execution_count": null,
   "metadata": {},
   "outputs": [
    {
     "name": "stdout",
     "output_type": "stream",
     "text": [
      "[0.875, 0.375, 0.9375, 0.0, 0.125, 0.875, 1.0, 0.5, 0.625, 0.0]\n"
     ]
    }
   ],
   "source": [
    "vetor = [15, 7, 16, 1, 3, 15, 17, 9, 11, 1]\n",
    "\n",
    "def minMaxScaler(lista):\n",
    "    \n",
    "    listaOrdenada = sorted(lista)\n",
    "    \n",
    "    minimo = listaOrdenada[0]\n",
    "    maximo = listaOrdenada[-1]\n",
    "\n",
    "    minMaxScalerLista = []\n",
    "    \n",
    "    for x in lista:\n",
    "        s = ((x - minimo) / (maximo - minimo))\n",
    "        minMaxScalerLista.append(s)\n",
    "    \n",
    "    return minMaxScalerLista\n",
    "\n",
    "print(minMaxScaler(vetor))\n"
   ]
  },
  {
   "attachments": {},
   "cell_type": "markdown",
   "metadata": {},
   "source": [
    "#### __3)__ A regressão linear simples é uma ferramenta estatística onde dados um conjunto de dados x e y, o objetivo é encontrar a melhor equação de reta que descreve aquele conjunto de dados. Para aproximar  essa reta aos dados, pode-se seguir a equação abaixo para aproximar os coeficientes $\\beta_0$ e $\\beta_1$:\n",
    "\n",
    "<br>\n",
    "\n",
    "$$\n",
    "\\large\n",
    "\\begin{cases}\n",
    "\\hat{\\beta}_1=\\frac{\\sum_{i=1}^n (x_i- \\bar{x})(y_i - \\bar{y})}{\\sum_{i=1}^n (x_i - \\bar{x})^2} = \\frac{\\sigma_{xy}}{\\sigma_{xx}} = \\frac{covar(x, y)}{var(x)}\\\\\n",
    "\\hat{\\beta}_0= \\bar{y}-\\hat{\\beta_1}\\bar{x}\n",
    "\\end{cases}\n",
    "$$\n",
    "\n",
    "<br>\n",
    "\n",
    "Onde:\n",
    "- **Covariância** ou variância conjunta, que indica o grau de interdependência entre duas variáveis;\n",
    "- **Variância** é uam medida de o quão disperso está os dados, ou seja o quão distante está cada valor desse conjunto do valor médio;\n",
    "\n",
    "Desenvolva uma função `linear_regression` que recebe duas listas x e y e devolva os valores dos coeficientes $\\beta_0$ e $\\beta_1$ (2 pontos)"
   ]
  },
  {
   "cell_type": "code",
   "execution_count": null,
   "metadata": {},
   "outputs": [],
   "source": [
    "# Exemplo 1\n",
    "# x = [ 0,  1,  2,  3,  4,  5,  6,  7,  8,  9, 10, 11, 12, 13, 14, 15, 16, 17, 18, 19]\n",
    "# y = [-1.,  2.5,  2.,  4.5,  5.,  6.5,  8.,  8.5, 11., 10.5, 14., 12.5, 17., 14.5, 20., 16.5, 23., 18.5, 26., 20.5]\n",
    "# b_0 = 0.2857142857142865\n",
    "# b_1 = 1.2330827067669172\n",
    "\n",
    "# Exemplo 2\n",
    "# X = [8, 9, 10, 3, 17, 19, 4, 8, 16, 10]\n",
    "# y = [14, 1, 16, 15, 15, 11, 18, 20, 15, 10]\n",
    "# b_0 = 15.190402476780186\n",
    "# b_1 = -0.1625386996904025"
   ]
  },
  {
   "cell_type": "code",
   "execution_count": 1,
   "metadata": {},
   "outputs": [
    {
     "name": "stdout",
     "output_type": "stream",
     "text": [
      "(0.2857142857142865, 1.2330827067669172)\n"
     ]
    }
   ],
   "source": [
    "def regressaoLinear(lista1, lista2):\n",
    "    listaX = lista1\n",
    "    listaY = lista2\n",
    "\n",
    "    tamListaX = len(listaX)\n",
    "    tamListaY = len(listaY)\n",
    "\n",
    "    # Igualando o comprimento das listas pra poder zipar elas depois\n",
    "    if (tamListaX > tamListaY):\n",
    "        while (tamListaX > tamListaY):\n",
    "            listaY.append(0)\n",
    "            tamListaX = len(listaX)\n",
    "            tamListaY = len(listaY)\n",
    "    elif(tamListaY > tamListaX):\n",
    "        while (tamListaY > tamListaX):\n",
    "            listaY.append(0)\n",
    "            tamListaX = len(listaX)\n",
    "            tamListaY = len(listaY)\n",
    "    \n",
    "    somaX = 0\n",
    "    for i in listaX:\n",
    "        somaX += i\n",
    "    mediaX = somaX / tamListaX\n",
    "    \n",
    "    somaY = 0\n",
    "    for i in listaY:\n",
    "        somaY += i\n",
    "    mediaY = somaY / tamListaY\n",
    "\n",
    "    # Valores do numerador de b1 (beta 1)\n",
    "    somatorioNumerador = 0\n",
    "\n",
    "    for x, y in zip(listaX, listaY):\n",
    "        somatorioNumerador += ((x - mediaX) * (y - mediaY))\n",
    "\n",
    "    # Valores do denominador de b1 (beta 1)\n",
    "    somatorioDenominador = 0\n",
    "\n",
    "    for x in listaX:\n",
    "        somatorioDenominador += ((x - mediaX) ** 2)\n",
    "\n",
    "    # Calculando b1 (beta 1)\n",
    "    b1 = somatorioNumerador / somatorioDenominador\n",
    "\n",
    "    # Calculando b0 (beta 0)\n",
    "    b0 = mediaY - (b1 * mediaX)\n",
    "\n",
    "    return b0, b1\n",
    "\n",
    "# x = [8, 9, 10, 3, 17, 19, 4, 8, 16, 10]\n",
    "# y = [14, 1, 16, 15, 15, 11, 18, 20, 15, 10]\n",
    "\n",
    "x = [ 0,  1,  2,  3,  4,  5,  6,  7,  8,  9, 10, 11, 12, 13, 14, 15, 16, 17, 18, 19]\n",
    "y = [-1.,  2.5,  2.,  4.5,  5.,  6.5,  8.,  8.5, 11., 10.5, 14., 12.5, 17., 14.5, 20., 16.5, 23., 18.5, 26., 20.5]\n",
    "\n",
    "print(regressaoLinear(x, y))\n"
   ]
  },
  {
   "attachments": {},
   "cell_type": "markdown",
   "metadata": {},
   "source": [
    "Quando fala-se sobre métricas de posição, existem outras métricas além da média que ganham destaque, como por exemplo a __mediana__ e a __moda__\n",
    "\n",
    "#### __4.1)__ A **mediana** de uma variável é um número tal que há o mesmo número de observações maiores e menores do que ele, ocupando assim a **posição central** da série de observações.\n",
    "\n",
    "Assim, para calcularmos a mediana, basta **ordenarmos os dados, do menor pro maior**, e contar o que está no meio dos dados ordenados (se houver número par de dados, pega-se a média entre os dados que estão \"no meio\")\n",
    "\n",
    "- *Exemplo*\n",
    "\n",
    "i) 3,4,**7**,8,8 **mediana = 7**       (CASO ÍMPAR)\n",
    "\n",
    "ii) 3,4,**7**,**8**,8,9 **mediana = (7+8)/2 = 7,5**   (CASO PAR)\n",
    "\n",
    "<br>\n",
    "\n",
    "Logo, podemos definir: \n",
    "\n",
    "- Mediana de $X = X_{\\frac{n+1}{2}}$ `Se tamanho da amostra ímpar`\n",
    "\n",
    "\n",
    "- Mediana de $X = \\frac{X_{\\frac{n}{2}}+ X_{\\frac{n+1}{2}}}{2}$ `Se tamanho da amostra par`\n",
    "\n",
    "Desenvolva uma função que receba uma lista de tamanho qualquer e devolva o valor da mediana (1 ponto)"
   ]
  },
  {
   "cell_type": "code",
   "execution_count": null,
   "metadata": {},
   "outputs": [],
   "source": [
    "# Exemplo 1\n",
    "# Vetor = [15, 3, 14, 8, 16, 3, 7, 9, 17, 1]\n",
    "# mediana = 8.5\n",
    "\n",
    "# exemplo 2\n",
    "# Vetor = [12, 5, 1, 16, 2, 19, 15, 18, 13, 2, 6]\n",
    "# mediana = 12"
   ]
  },
  {
   "cell_type": "code",
   "execution_count": null,
   "metadata": {},
   "outputs": [
    {
     "name": "stdout",
     "output_type": "stream",
     "text": [
      "12\n",
      "8.5\n"
     ]
    }
   ],
   "source": [
    "def mediana(lista):\n",
    "    listaOrdenada = sorted(lista)\n",
    "\n",
    "    if ((len(listaOrdenada) % 2) == 1):\n",
    "        posicaoMeio = len(listaOrdenada) // 2\n",
    "        valorMediana = listaOrdenada[posicaoMeio]\n",
    "    else:\n",
    "        posicaoMeio1 = (len(listaOrdenada) // 2) - 1\n",
    "        posicaoMeio2 = (len(listaOrdenada) // 2)\n",
    "\n",
    "        valorMediana = (listaOrdenada[posicaoMeio1] + listaOrdenada[posicaoMeio2]) / 2\n",
    "\n",
    "    return valorMediana\n",
    "\n",
    "vetor1 = [12, 5, 1, 16, 2, 19, 15, 18, 13, 2, 6]\n",
    "print(mediana(vetor1))\n",
    "vetor2 = [15, 3, 14, 8, 16, 3, 7, 9, 17, 1]\n",
    "print(mediana(vetor2))"
   ]
  },
  {
   "attachments": {},
   "cell_type": "markdown",
   "metadata": {},
   "source": [
    "#### __4.2)__ A **moda** é o valor que ocorre com **maior frequencia** em um conjunto de dados. Dependendo do conjunto de dados, ele pode ser:\n",
    "\n",
    "- Sem moda: quando nenhum valor se repete \n",
    "\n",
    "- unimodal: Quando existe apenas um valor repetido com maior frequência \n",
    "\n",
    "- multimodal: quando existem mais de um valor com a mesma frequência máxima\n",
    "\n",
    "Desenvolva uma função que receba uma lista de tamanho qualquer e devolva o valor da primeira moda, caso haja uma (1 ponto)"
   ]
  },
  {
   "cell_type": "code",
   "execution_count": null,
   "metadata": {},
   "outputs": [],
   "source": [
    "# Exemplo 1\n",
    "# Vetor = [5, 4, 3, 4, 20, 17, 5, 14, 13, 18, 4, 1]\n",
    "# Moda = 4\n",
    "\n",
    "# Exemplo 2\n",
    "# Vetor = [18, 7, 1, 19, 3, 3, 19, 14, 11, 20, 6, 2]\n",
    "# Moda = 3 (e 19)"
   ]
  },
  {
   "cell_type": "code",
   "execution_count": null,
   "metadata": {},
   "outputs": [
    {
     "data": {
      "text/plain": [
       "19"
      ]
     },
     "metadata": {},
     "output_type": "display_data"
    }
   ],
   "source": [
    "def moda(lista):\n",
    "    listaControle = []\n",
    "    listaValores = []\n",
    "\n",
    "    for i in lista:\n",
    "        if (i not in listaControle):\n",
    "            listaControle.append(i)\n",
    "            listaValores.append(i)\n",
    "            listaValores.append(1)\n",
    "        else:\n",
    "            listaValores[listaValores.index(i) + 1] += 1\n",
    "    \n",
    "    modaValor = listaValores[0]\n",
    "    maior = listaValores[1]\n",
    "    for j in range(1, len(listaValores) + 1, 2):\n",
    "        if (listaValores[j] > maior):\n",
    "            maior = listaValores[j]\n",
    "            modaValor = listaValores[j - 1]\n",
    "\n",
    "    return modaValor\n",
    "\n",
    "lista = [18, 7, 1, 19, 3, 3, 19, 14, 11, 20, 6, 2]\n",
    "moda(lista)"
   ]
  },
  {
   "attachments": {},
   "cell_type": "markdown",
   "metadata": {},
   "source": [
    "#### __5)__ Vamos repetir o exercício da distância euclidiana mas agora para o caso de um vetor n dimensional. Ou seja, dados os pontos A e B, temos que:\n",
    "\n",
    "<br>\n",
    "\n",
    "$$ d = \\sqrt{(x_{1,A} - x_{1,B})^2 + (x_{2,A} - x_{2,B})^2 + (x_{3,A} - x_{3,B})^2 + ... + (x_{n,A} - x_{n,B})^2}$$\n",
    "\n",
    "<br>\n",
    "\n",
    "Então dada a equação da distância euclidiana n-dimensional, desenvolva uma função que receba dois vetores distintos A e B com a mesma quantidade de elementos e calcule a distância euclidiana entre eles (2 pontos)"
   ]
  },
  {
   "cell_type": "code",
   "execution_count": null,
   "metadata": {},
   "outputs": [],
   "source": [
    "# Exemplo 1\n",
    "# lista A = [1, 11, 20, 18, 16, 3, 5, 5, 18, 3, 18, 13]\n",
    "# Lista B = [15, 3, 1, 19, 14, 14, 3, 20, 19, 17, 2, 12]\n",
    "# d = 37.815340802378074\n",
    "\n",
    "# Exemplo 2\n",
    "# lista A = [17, 11, 18, 20, 17, 13, 3, 19, 17, 16, 15, 15, 6, 17, 12, 8, 18, 15, 5, 10]\n",
    "# Lista B = [10, 4, 10, 13, 6, 7, 2, 15, 15, 10, 10, 2, 3, 18, 1, 16, 16, 1, 5, 3]\n",
    "# d = 32.60368077380221"
   ]
  },
  {
   "cell_type": "code",
   "execution_count": null,
   "metadata": {},
   "outputs": [
    {
     "data": {
      "text/plain": [
       "37.815340802378074"
      ]
     },
     "metadata": {},
     "output_type": "display_data"
    }
   ],
   "source": [
    "def distanciaEuclidiana(vetorX, vetorY):\n",
    "    tamVetorX = len(vetorX)\n",
    "    tamVetorY = len(vetorY)\n",
    "\n",
    "    # Vareificando o comprimento das listas\n",
    "    if ((tamVetorX > tamVetorY) or (tamVetorY > tamVetorX)):\n",
    "        return (\"Os vetores devem possuir o mesmo comprimento.\")\n",
    "    else:\n",
    "        somatorio = 0\n",
    "\n",
    "        for x, y in zip(vetorX, vetorY):\n",
    "            somatorio += (x - y) ** 2\n",
    "\n",
    "        distEuclidiana = (somatorio) ** 0.5\n",
    "\n",
    "        return distEuclidiana\n",
    "\n",
    "\n",
    "listaA = [1, 11, 20, 18, 16, 3, 5, 5, 18, 3, 18, 13]\n",
    "listaB = [15, 3, 1, 19, 14, 14, 3, 20, 19, 17, 2, 12]\n",
    "distanciaEuclidiana(listaA, listaB)"
   ]
  }
 ],
 "metadata": {
  "kernelspec": {
   "display_name": "Python 3",
   "language": "python",
   "name": "python3"
  },
  "language_info": {
   "codemirror_mode": {
    "name": "ipython",
    "version": 3
   },
   "file_extension": ".py",
   "mimetype": "text/x-python",
   "name": "python",
   "nbconvert_exporter": "python",
   "pygments_lexer": "ipython3",
   "version": "3.11.0"
  },
  "orig_nbformat": 4,
  "vscode": {
   "interpreter": {
    "hash": "c261aea317cc0286b3b3261fbba9abdec21eaa57589985bb7a274bf54d6cc0a7"
   }
  }
 },
 "nbformat": 4,
 "nbformat_minor": 2
}
